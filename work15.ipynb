{
 "cells": [
  {
   "cell_type": "code",
   "execution_count": 5,
   "metadata": {},
   "outputs": [
    {
     "data": {
      "text/html": [
       "    <style>\n",
       "        .bk-notebook-logo {\n",
       "            display: block;\n",
       "            width: 20px;\n",
       "            height: 20px;\n",
       "            background-image: url(data:image/png;base64,iVBORw0KGgoAAAANSUhEUgAAABQAAAAUCAYAAACNiR0NAAAABHNCSVQICAgIfAhkiAAAAAlwSFlzAAALEgAACxIB0t1+/AAAABx0RVh0U29mdHdhcmUAQWRvYmUgRmlyZXdvcmtzIENTNui8sowAAAOkSURBVDiNjZRtaJVlGMd/1/08zzln5zjP1LWcU9N0NkN8m2CYjpgQYQXqSs0I84OLIC0hkEKoPtiH3gmKoiJDU7QpLgoLjLIQCpEsNJ1vqUOdO7ppbuec5+V+rj4ctwzd8IIbbi6u+8f1539dt3A78eXC7QizUF7gyV1fD1Yqg4JWz84yffhm0qkFqBogB9rM8tZdtwVsPUhWhGcFJngGeWrPzHm5oaMmkfEg1usvLFyc8jLRqDOMru7AyC8saQr7GG7f5fvDeH7Ej8CM66nIF+8yngt6HWaKh7k49Soy9nXurCi1o3qUbS3zWfrYeQDTB/Qj6kX6Ybhw4B+bOYoLKCC9H3Nu/leUTZ1JdRWkkn2ldcCamzrcf47KKXdAJllSlxAOkRgyHsGC/zRday5Qld9DyoM4/q/rUoy/CXh3jzOu3bHUVZeU+DEn8FInkPBFlu3+nW3Nw0mk6vCDiWg8CeJaxEwuHS3+z5RgY+YBR6V1Z1nxSOfoaPa4LASWxxdNp+VWTk7+4vzaou8v8PN+xo+KY2xsw6une2frhw05CTYOmQvsEhjhWjn0bmXPjpE1+kplmmkP3suftwTubK9Vq22qKmrBhpY4jvd5afdRA3wGjFAgcnTK2s4hY0/GPNIb0nErGMCRxWOOX64Z8RAC4oCXdklmEvcL8o0BfkNK4lUg9HTl+oPlQxdNo3Mg4Nv175e/1LDGzZen30MEjRUtmXSfiTVu1kK8W4txyV6BMKlbgk3lMwYCiusNy9fVfvvwMxv8Ynl6vxoByANLTWplvuj/nF9m2+PDtt1eiHPBr1oIfhCChQMBw6Aw0UulqTKZdfVvfG7VcfIqLG9bcldL/+pdWTLxLUy8Qq38heUIjh4XlzZxzQm19lLFlr8vdQ97rjZVOLf8nclzckbcD4wxXMidpX30sFd37Fv/GtwwhzhxGVAprjbg0gCAEeIgwCZyTV2Z1REEW8O4py0wsjeloKoMr6iCY6dP92H6Vw/oTyICIthibxjm/DfN9lVz8IqtqKYLUXfoKVMVQVVJOElGjrnnUt9T9wbgp8AyYKaGlqingHZU/uG2NTZSVqwHQTWkx9hxjkpWDaCg6Ckj5qebgBVbT3V3NNXMSiWSDdGV3hrtzla7J+duwPOToIg42ChPQOQjspnSlp1V+Gjdged7+8UN5CRAV7a5EdFNwCjEaBR27b3W890TE7g24NAP/mMDXRWrGoFPQI9ls/MWO2dWFAar/xcOIImbbpA3zgAAAABJRU5ErkJggg==);\n",
       "        }\n",
       "    </style>\n",
       "    <div>\n",
       "        <a href=\"https://bokeh.org\" target=\"_blank\" class=\"bk-notebook-logo\"></a>\n",
       "        <span id=\"c307cf24-70c0-46d7-8128-234744f8dc9d\">Loading BokehJS ...</span>\n",
       "    </div>\n"
      ]
     },
     "metadata": {},
     "output_type": "display_data"
    },
    {
     "data": {
      "application/javascript": "(function(root) {\n  function now() {\n    return new Date();\n  }\n\n  const force = true;\n\n  if (typeof root._bokeh_onload_callbacks === \"undefined\" || force === true) {\n    root._bokeh_onload_callbacks = [];\n    root._bokeh_is_loading = undefined;\n  }\n\nconst JS_MIME_TYPE = 'application/javascript';\n  const HTML_MIME_TYPE = 'text/html';\n  const EXEC_MIME_TYPE = 'application/vnd.bokehjs_exec.v0+json';\n  const CLASS_NAME = 'output_bokeh rendered_html';\n\n  /**\n   * Render data to the DOM node\n   */\n  function render(props, node) {\n    const script = document.createElement(\"script\");\n    node.appendChild(script);\n  }\n\n  /**\n   * Handle when an output is cleared or removed\n   */\n  function handleClearOutput(event, handle) {\n    function drop(id) {\n      const view = Bokeh.index.get_by_id(id)\n      if (view != null) {\n        view.model.document.clear()\n        Bokeh.index.delete(view)\n      }\n    }\n\n    const cell = handle.cell;\n\n    const id = cell.output_area._bokeh_element_id;\n    const server_id = cell.output_area._bokeh_server_id;\n\n    // Clean up Bokeh references\n    if (id != null) {\n      drop(id)\n    }\n\n    if (server_id !== undefined) {\n      // Clean up Bokeh references\n      const cmd_clean = \"from bokeh.io.state import curstate; print(curstate().uuid_to_server['\" + server_id + \"'].get_sessions()[0].document.roots[0]._id)\";\n      cell.notebook.kernel.execute(cmd_clean, {\n        iopub: {\n          output: function(msg) {\n            const id = msg.content.text.trim()\n            drop(id)\n          }\n        }\n      });\n      // Destroy server and session\n      const cmd_destroy = \"import bokeh.io.notebook as ion; ion.destroy_server('\" + server_id + \"')\";\n      cell.notebook.kernel.execute(cmd_destroy);\n    }\n  }\n\n  /**\n   * Handle when a new output is added\n   */\n  function handleAddOutput(event, handle) {\n    const output_area = handle.output_area;\n    const output = handle.output;\n\n    // limit handleAddOutput to display_data with EXEC_MIME_TYPE content only\n    if ((output.output_type != \"display_data\") || (!Object.prototype.hasOwnProperty.call(output.data, EXEC_MIME_TYPE))) {\n      return\n    }\n\n    const toinsert = output_area.element.find(\".\" + CLASS_NAME.split(' ')[0]);\n\n    if (output.metadata[EXEC_MIME_TYPE][\"id\"] !== undefined) {\n      toinsert[toinsert.length - 1].firstChild.textContent = output.data[JS_MIME_TYPE];\n      // store reference to embed id on output_area\n      output_area._bokeh_element_id = output.metadata[EXEC_MIME_TYPE][\"id\"];\n    }\n    if (output.metadata[EXEC_MIME_TYPE][\"server_id\"] !== undefined) {\n      const bk_div = document.createElement(\"div\");\n      bk_div.innerHTML = output.data[HTML_MIME_TYPE];\n      const script_attrs = bk_div.children[0].attributes;\n      for (let i = 0; i < script_attrs.length; i++) {\n        toinsert[toinsert.length - 1].firstChild.setAttribute(script_attrs[i].name, script_attrs[i].value);\n        toinsert[toinsert.length - 1].firstChild.textContent = bk_div.children[0].textContent\n      }\n      // store reference to server id on output_area\n      output_area._bokeh_server_id = output.metadata[EXEC_MIME_TYPE][\"server_id\"];\n    }\n  }\n\n  function register_renderer(events, OutputArea) {\n\n    function append_mime(data, metadata, element) {\n      // create a DOM node to render to\n      const toinsert = this.create_output_subarea(\n        metadata,\n        CLASS_NAME,\n        EXEC_MIME_TYPE\n      );\n      this.keyboard_manager.register_events(toinsert);\n      // Render to node\n      const props = {data: data, metadata: metadata[EXEC_MIME_TYPE]};\n      render(props, toinsert[toinsert.length - 1]);\n      element.append(toinsert);\n      return toinsert\n    }\n\n    /* Handle when an output is cleared or removed */\n    events.on('clear_output.CodeCell', handleClearOutput);\n    events.on('delete.Cell', handleClearOutput);\n\n    /* Handle when a new output is added */\n    events.on('output_added.OutputArea', handleAddOutput);\n\n    /**\n     * Register the mime type and append_mime function with output_area\n     */\n    OutputArea.prototype.register_mime_type(EXEC_MIME_TYPE, append_mime, {\n      /* Is output safe? */\n      safe: true,\n      /* Index of renderer in `output_area.display_order` */\n      index: 0\n    });\n  }\n\n  // register the mime type if in Jupyter Notebook environment and previously unregistered\n  if (root.Jupyter !== undefined) {\n    const events = require('base/js/events');\n    const OutputArea = require('notebook/js/outputarea').OutputArea;\n\n    if (OutputArea.prototype.mime_types().indexOf(EXEC_MIME_TYPE) == -1) {\n      register_renderer(events, OutputArea);\n    }\n  }\n  if (typeof (root._bokeh_timeout) === \"undefined\" || force === true) {\n    root._bokeh_timeout = Date.now() + 5000;\n    root._bokeh_failed_load = false;\n  }\n\n  const NB_LOAD_WARNING = {'data': {'text/html':\n     \"<div style='background-color: #fdd'>\\n\"+\n     \"<p>\\n\"+\n     \"BokehJS does not appear to have successfully loaded. If loading BokehJS from CDN, this \\n\"+\n     \"may be due to a slow or bad network connection. Possible fixes:\\n\"+\n     \"</p>\\n\"+\n     \"<ul>\\n\"+\n     \"<li>re-rerun `output_notebook()` to attempt to load from CDN again, or</li>\\n\"+\n     \"<li>use INLINE resources instead, as so:</li>\\n\"+\n     \"</ul>\\n\"+\n     \"<code>\\n\"+\n     \"from bokeh.resources import INLINE\\n\"+\n     \"output_notebook(resources=INLINE)\\n\"+\n     \"</code>\\n\"+\n     \"</div>\"}};\n\n  function display_loaded() {\n    const el = document.getElementById(\"c307cf24-70c0-46d7-8128-234744f8dc9d\");\n    if (el != null) {\n      el.textContent = \"BokehJS is loading...\";\n    }\n    if (root.Bokeh !== undefined) {\n      if (el != null) {\n        el.textContent = \"BokehJS \" + root.Bokeh.version + \" successfully loaded.\";\n      }\n    } else if (Date.now() < root._bokeh_timeout) {\n      setTimeout(display_loaded, 100)\n    }\n  }\n\n  function run_callbacks() {\n    try {\n      root._bokeh_onload_callbacks.forEach(function(callback) {\n        if (callback != null)\n          callback();\n      });\n    } finally {\n      delete root._bokeh_onload_callbacks\n    }\n    console.debug(\"Bokeh: all callbacks have finished\");\n  }\n\n  function load_libs(css_urls, js_urls, callback) {\n    if (css_urls == null) css_urls = [];\n    if (js_urls == null) js_urls = [];\n\n    root._bokeh_onload_callbacks.push(callback);\n    if (root._bokeh_is_loading > 0) {\n      console.debug(\"Bokeh: BokehJS is being loaded, scheduling callback at\", now());\n      return null;\n    }\n    if (js_urls == null || js_urls.length === 0) {\n      run_callbacks();\n      return null;\n    }\n    console.debug(\"Bokeh: BokehJS not loaded, scheduling load and callback at\", now());\n    root._bokeh_is_loading = css_urls.length + js_urls.length;\n\n    function on_load() {\n      root._bokeh_is_loading--;\n      if (root._bokeh_is_loading === 0) {\n        console.debug(\"Bokeh: all BokehJS libraries/stylesheets loaded\");\n        run_callbacks()\n      }\n    }\n\n    function on_error(url) {\n      console.error(\"failed to load \" + url);\n    }\n\n    for (let i = 0; i < css_urls.length; i++) {\n      const url = css_urls[i];\n      const element = document.createElement(\"link\");\n      element.onload = on_load;\n      element.onerror = on_error.bind(null, url);\n      element.rel = \"stylesheet\";\n      element.type = \"text/css\";\n      element.href = url;\n      console.debug(\"Bokeh: injecting link tag for BokehJS stylesheet: \", url);\n      document.body.appendChild(element);\n    }\n\n    for (let i = 0; i < js_urls.length; i++) {\n      const url = js_urls[i];\n      const element = document.createElement('script');\n      element.onload = on_load;\n      element.onerror = on_error.bind(null, url);\n      element.async = false;\n      element.src = url;\n      console.debug(\"Bokeh: injecting script tag for BokehJS library: \", url);\n      document.head.appendChild(element);\n    }\n  };\n\n  function inject_raw_css(css) {\n    const element = document.createElement(\"style\");\n    element.appendChild(document.createTextNode(css));\n    document.body.appendChild(element);\n  }\n\n  const js_urls = [\"https://cdn.bokeh.org/bokeh/release/bokeh-3.3.3.min.js\", \"https://cdn.bokeh.org/bokeh/release/bokeh-gl-3.3.3.min.js\", \"https://cdn.bokeh.org/bokeh/release/bokeh-widgets-3.3.3.min.js\", \"https://cdn.bokeh.org/bokeh/release/bokeh-tables-3.3.3.min.js\", \"https://cdn.bokeh.org/bokeh/release/bokeh-mathjax-3.3.3.min.js\"];\n  const css_urls = [];\n\n  const inline_js = [    function(Bokeh) {\n      Bokeh.set_log_level(\"info\");\n    },\nfunction(Bokeh) {\n    }\n  ];\n\n  function run_inline_js() {\n    if (root.Bokeh !== undefined || force === true) {\n          for (let i = 0; i < inline_js.length; i++) {\n      inline_js[i].call(root, root.Bokeh);\n    }\nif (force === true) {\n        display_loaded();\n      }} else if (Date.now() < root._bokeh_timeout) {\n      setTimeout(run_inline_js, 100);\n    } else if (!root._bokeh_failed_load) {\n      console.log(\"Bokeh: BokehJS failed to load within specified timeout.\");\n      root._bokeh_failed_load = true;\n    } else if (force !== true) {\n      const cell = $(document.getElementById(\"c307cf24-70c0-46d7-8128-234744f8dc9d\")).parents('.cell').data().cell;\n      cell.output_area.append_execute_result(NB_LOAD_WARNING)\n    }\n  }\n\n  if (root._bokeh_is_loading === 0) {\n    console.debug(\"Bokeh: BokehJS loaded, going straight to plotting\");\n    run_inline_js();\n  } else {\n    load_libs(css_urls, js_urls, function() {\n      console.debug(\"Bokeh: BokehJS plotting callback run at\", now());\n      run_inline_js();\n    });\n  }\n}(window));",
      "application/vnd.bokehjs_load.v0+json": ""
     },
     "metadata": {},
     "output_type": "display_data"
    }
   ],
   "source": [
    "from bokeh.io  import output_notebook\n",
    "from bokeh.plotting import output_file,show,figure\n",
    "import numpy as np\n",
    "\n",
    "output_notebook()\n"
   ]
  },
  {
   "cell_type": "code",
   "execution_count": 4,
   "metadata": {},
   "outputs": [
    {
     "data": {
      "text/html": [
       "\n",
       "  <div id=\"cdc03d9d-c71d-40ad-a0dc-b00429eec899\" data-root-id=\"p1043\" style=\"display: contents;\"></div>\n"
      ]
     },
     "metadata": {},
     "output_type": "display_data"
    },
    {
     "data": {
      "application/javascript": "(function(root) {\n  function embed_document(root) {\n  const docs_json = {\"78b38ffa-9e3b-4d6b-8a89-8e8b2909a79e\":{\"version\":\"3.3.3\",\"title\":\"Bokeh Application\",\"roots\":[{\"type\":\"object\",\"name\":\"Figure\",\"id\":\"p1043\",\"attributes\":{\"width\":800,\"height\":800,\"x_range\":{\"type\":\"object\",\"name\":\"DataRange1d\",\"id\":\"p1044\"},\"y_range\":{\"type\":\"object\",\"name\":\"DataRange1d\",\"id\":\"p1045\"},\"x_scale\":{\"type\":\"object\",\"name\":\"LinearScale\",\"id\":\"p1053\"},\"y_scale\":{\"type\":\"object\",\"name\":\"LinearScale\",\"id\":\"p1054\"},\"title\":{\"type\":\"object\",\"name\":\"Title\",\"id\":\"p1046\",\"attributes\":{\"text\":\"demo\"}},\"renderers\":[{\"type\":\"object\",\"name\":\"GlyphRenderer\",\"id\":\"p1082\",\"attributes\":{\"data_source\":{\"type\":\"object\",\"name\":\"ColumnDataSource\",\"id\":\"p1076\",\"attributes\":{\"selected\":{\"type\":\"object\",\"name\":\"Selection\",\"id\":\"p1077\",\"attributes\":{\"indices\":[],\"line_indices\":[]}},\"selection_policy\":{\"type\":\"object\",\"name\":\"UnionRenderers\",\"id\":\"p1078\"},\"data\":{\"type\":\"map\",\"entries\":[[\"x\",[1,2,3,4,5]],[\"y\",[6,7,8,9,10]]]}}},\"view\":{\"type\":\"object\",\"name\":\"CDSView\",\"id\":\"p1083\",\"attributes\":{\"filter\":{\"type\":\"object\",\"name\":\"AllIndices\",\"id\":\"p1084\"}}},\"glyph\":{\"type\":\"object\",\"name\":\"Line\",\"id\":\"p1079\",\"attributes\":{\"x\":{\"type\":\"field\",\"field\":\"x\"},\"y\":{\"type\":\"field\",\"field\":\"y\"},\"line_color\":\"#1f77b4\",\"line_width\":3}},\"nonselection_glyph\":{\"type\":\"object\",\"name\":\"Line\",\"id\":\"p1080\",\"attributes\":{\"x\":{\"type\":\"field\",\"field\":\"x\"},\"y\":{\"type\":\"field\",\"field\":\"y\"},\"line_color\":\"#1f77b4\",\"line_alpha\":0.1,\"line_width\":3}},\"muted_glyph\":{\"type\":\"object\",\"name\":\"Line\",\"id\":\"p1081\",\"attributes\":{\"x\":{\"type\":\"field\",\"field\":\"x\"},\"y\":{\"type\":\"field\",\"field\":\"y\"},\"line_color\":\"#1f77b4\",\"line_alpha\":0.2,\"line_width\":3}}}}],\"toolbar\":{\"type\":\"object\",\"name\":\"Toolbar\",\"id\":\"p1052\",\"attributes\":{\"tools\":[{\"type\":\"object\",\"name\":\"PanTool\",\"id\":\"p1065\"},{\"type\":\"object\",\"name\":\"WheelZoomTool\",\"id\":\"p1066\",\"attributes\":{\"renderers\":\"auto\"}},{\"type\":\"object\",\"name\":\"BoxZoomTool\",\"id\":\"p1067\",\"attributes\":{\"overlay\":{\"type\":\"object\",\"name\":\"BoxAnnotation\",\"id\":\"p1068\",\"attributes\":{\"syncable\":false,\"level\":\"overlay\",\"visible\":false,\"left\":{\"type\":\"number\",\"value\":\"nan\"},\"right\":{\"type\":\"number\",\"value\":\"nan\"},\"top\":{\"type\":\"number\",\"value\":\"nan\"},\"bottom\":{\"type\":\"number\",\"value\":\"nan\"},\"left_units\":\"canvas\",\"right_units\":\"canvas\",\"top_units\":\"canvas\",\"bottom_units\":\"canvas\",\"line_color\":\"black\",\"line_alpha\":1.0,\"line_width\":2,\"line_dash\":[4,4],\"fill_color\":\"lightgrey\",\"fill_alpha\":0.5}}}},{\"type\":\"object\",\"name\":\"SaveTool\",\"id\":\"p1073\"},{\"type\":\"object\",\"name\":\"ResetTool\",\"id\":\"p1074\"},{\"type\":\"object\",\"name\":\"HelpTool\",\"id\":\"p1075\"}]}},\"left\":[{\"type\":\"object\",\"name\":\"LinearAxis\",\"id\":\"p1060\",\"attributes\":{\"ticker\":{\"type\":\"object\",\"name\":\"BasicTicker\",\"id\":\"p1061\",\"attributes\":{\"mantissas\":[1,2,5]}},\"formatter\":{\"type\":\"object\",\"name\":\"BasicTickFormatter\",\"id\":\"p1062\"},\"major_label_policy\":{\"type\":\"object\",\"name\":\"AllLabels\",\"id\":\"p1063\"}}}],\"below\":[{\"type\":\"object\",\"name\":\"LinearAxis\",\"id\":\"p1055\",\"attributes\":{\"ticker\":{\"type\":\"object\",\"name\":\"BasicTicker\",\"id\":\"p1056\",\"attributes\":{\"mantissas\":[1,2,5]}},\"formatter\":{\"type\":\"object\",\"name\":\"BasicTickFormatter\",\"id\":\"p1057\"},\"major_label_policy\":{\"type\":\"object\",\"name\":\"AllLabels\",\"id\":\"p1058\"}}}],\"center\":[{\"type\":\"object\",\"name\":\"Grid\",\"id\":\"p1059\",\"attributes\":{\"axis\":{\"id\":\"p1055\"}}},{\"type\":\"object\",\"name\":\"Grid\",\"id\":\"p1064\",\"attributes\":{\"dimension\":1,\"axis\":{\"id\":\"p1060\"}}}]}}]}};\n  const render_items = [{\"docid\":\"78b38ffa-9e3b-4d6b-8a89-8e8b2909a79e\",\"roots\":{\"p1043\":\"cdc03d9d-c71d-40ad-a0dc-b00429eec899\"},\"root_ids\":[\"p1043\"]}];\n  root.Bokeh.embed.embed_items_notebook(docs_json, render_items);\n  }\n  if (root.Bokeh !== undefined) {\n    embed_document(root);\n  } else {\n    let attempts = 0;\n    const timer = setInterval(function(root) {\n      if (root.Bokeh !== undefined) {\n        clearInterval(timer);\n        embed_document(root);\n      } else {\n        attempts++;\n        if (attempts > 100) {\n          clearInterval(timer);\n          console.log(\"Bokeh: ERROR: Unable to run BokehJS code because BokehJS library is missing\");\n        }\n      }\n    }, 10, root)\n  }\n})(window);",
      "application/vnd.bokehjs_exec.v0+json": ""
     },
     "metadata": {
      "application/vnd.bokehjs_exec.v0+json": {
       "id": "p1043"
      }
     },
     "output_type": "display_data"
    }
   ],
   "source": [
    "p=figure(height=800,width=800,title='demo')\n",
    "p.line([1,2,3,4,5],[6,7,8,9,10],line_width=3)\n",
    "show(p)\n",
    "output_file('index.html')\n"
   ]
  },
  {
   "cell_type": "code",
   "execution_count": 8,
   "metadata": {},
   "outputs": [
    {
     "data": {
      "text/html": [
       "\n",
       "  <div id=\"c8b68065-b5ca-4fb9-b452-2f6c1fb3e045\" data-root-id=\"p1127\" style=\"display: contents;\"></div>\n"
      ]
     },
     "metadata": {},
     "output_type": "display_data"
    },
    {
     "data": {
      "application/javascript": "(function(root) {\n  function embed_document(root) {\n  const docs_json = {\"2e267463-ee07-48a6-a748-fd14a23a2895\":{\"version\":\"3.3.3\",\"title\":\"Bokeh Application\",\"roots\":[{\"type\":\"object\",\"name\":\"Figure\",\"id\":\"p1127\",\"attributes\":{\"width\":800,\"height\":800,\"x_range\":{\"type\":\"object\",\"name\":\"DataRange1d\",\"id\":\"p1128\"},\"y_range\":{\"type\":\"object\",\"name\":\"DataRange1d\",\"id\":\"p1129\"},\"x_scale\":{\"type\":\"object\",\"name\":\"LinearScale\",\"id\":\"p1136\"},\"y_scale\":{\"type\":\"object\",\"name\":\"LinearScale\",\"id\":\"p1137\"},\"title\":{\"type\":\"object\",\"name\":\"Title\",\"id\":\"p1134\"},\"renderers\":[{\"type\":\"object\",\"name\":\"GlyphRenderer\",\"id\":\"p1165\",\"attributes\":{\"data_source\":{\"type\":\"object\",\"name\":\"ColumnDataSource\",\"id\":\"p1159\",\"attributes\":{\"selected\":{\"type\":\"object\",\"name\":\"Selection\",\"id\":\"p1160\",\"attributes\":{\"indices\":[],\"line_indices\":[]}},\"selection_policy\":{\"type\":\"object\",\"name\":\"UnionRenderers\",\"id\":\"p1161\"},\"data\":{\"type\":\"map\",\"entries\":[[\"x\",{\"type\":\"ndarray\",\"array\":{\"type\":\"bytes\",\"data\":\"AAAAAAAAAMCsD431obH+v1kfGutDY/2/BS+n4OUU/L+yPjTWh8b6v15OwcspePm/Cl5Owcsp+L+3bdu2bdv2v2R9aKwPjfW/EI31obE+9L+8nIKXU/Dyv2msD431ofG/FbycgpdT8L+El1Pwcgruv9y2bdu2beu/NtaHxvrQ6L+O9aGxPjTmv+YUvJyCl+O/QDTWh8b64L8wp+DlFLzcv+TlFLycgte/lCRJkiRJ0r+QxvrQWB/Kv+CHxvrQWL+/QAUvp+DlpL9ABS+n4OWkP8CHxvrQWL8/gMb60Fgfyj+QJEmSJEnSP+DlFLycgtc/KKfg5RS83D88NNaHxvrgP+QUvJyCl+M/jPWhsT405j801ofG+tDoP9i2bdu2bes/gJdT8HIK7j8UvJyCl1PwP2isD431ofE/upyCl1Pw8j8OjfWhsT70P2J9aKwPjfU/tm3btm3b9j8KXk7Byyn4P1xOwcspePk/sD401ofG+j8EL6fg5RT8P1gfGutDY/0/rA+N9aGx/j8AAAAAAAAAQA==\"},\"shape\":[50],\"dtype\":\"float64\",\"order\":\"little\"}],[\"y\",{\"type\":\"ndarray\",\"array\":{\"type\":\"bytes\",\"data\":\"RrTR6vYY7b/g3EtAJBbuv+UM2F0F4O6/Ldu1DkJ177+QrZDf29TvvwHZVtAv/u+/Glokavfw779KTGc3Sa3vv6hHcZ2YM++/VCy3F7WE7r+j0Q7WyKHtv6TCRcBWjOy/a+Bz4jdG67+Lq25GmNHpv0VhvD/zMOi/qVtXMA9n5r8ionjN+Hbkv6vJeuz9Y+K/CrSy4Kcx4L/pILLnasfbv4zkmAYp/Na//HoemrYJ0r/QDrbfBfHJv4doYhXHRL+/t4pOaGTkpL+3ik5oZOSkP2doYhXHRL8/wQ623wXxyT/4eh6atgnSP4jkmAYp/NY/4iCy52rH2z8HtLLgpzHgP6nJeuz9Y+I/IaJ4zfh25D+oW1cwD2fmP0NhvD/zMOg/iatuRpjR6T9q4HPiN0brP6PCRcBWjOw/odEO1sih7T9TLLcXtYTuP6hHcZ2YM+8/SUxnN0mt7z8aWiRq9/DvPwHZVtAv/u8/kK2Q39vU7z8u27UOQnXvP+YM2F0F4O4/4NxLQCQW7j9GtNHq9hjtPw==\"},\"shape\":[50],\"dtype\":\"float64\",\"order\":\"little\"}]]}}},\"view\":{\"type\":\"object\",\"name\":\"CDSView\",\"id\":\"p1166\",\"attributes\":{\"filter\":{\"type\":\"object\",\"name\":\"AllIndices\",\"id\":\"p1167\"}}},\"glyph\":{\"type\":\"object\",\"name\":\"Line\",\"id\":\"p1162\",\"attributes\":{\"x\":{\"type\":\"field\",\"field\":\"x\"},\"y\":{\"type\":\"field\",\"field\":\"y\"},\"line_color\":\"red\"}},\"nonselection_glyph\":{\"type\":\"object\",\"name\":\"Line\",\"id\":\"p1163\",\"attributes\":{\"x\":{\"type\":\"field\",\"field\":\"x\"},\"y\":{\"type\":\"field\",\"field\":\"y\"},\"line_color\":\"red\",\"line_alpha\":0.1}},\"muted_glyph\":{\"type\":\"object\",\"name\":\"Line\",\"id\":\"p1164\",\"attributes\":{\"x\":{\"type\":\"field\",\"field\":\"x\"},\"y\":{\"type\":\"field\",\"field\":\"y\"},\"line_color\":\"red\",\"line_alpha\":0.2}}}},{\"type\":\"object\",\"name\":\"GlyphRenderer\",\"id\":\"p1176\",\"attributes\":{\"data_source\":{\"type\":\"object\",\"name\":\"ColumnDataSource\",\"id\":\"p1170\",\"attributes\":{\"selected\":{\"type\":\"object\",\"name\":\"Selection\",\"id\":\"p1171\",\"attributes\":{\"indices\":[],\"line_indices\":[]}},\"selection_policy\":{\"type\":\"object\",\"name\":\"UnionRenderers\",\"id\":\"p1172\"},\"data\":{\"type\":\"map\",\"entries\":[[\"x\",{\"type\":\"ndarray\",\"array\":{\"type\":\"bytes\",\"data\":\"AAAAAAAAAMCsD431obH+v1kfGutDY/2/BS+n4OUU/L+yPjTWh8b6v15OwcspePm/Cl5Owcsp+L+3bdu2bdv2v2R9aKwPjfW/EI31obE+9L+8nIKXU/Dyv2msD431ofG/FbycgpdT8L+El1Pwcgruv9y2bdu2beu/NtaHxvrQ6L+O9aGxPjTmv+YUvJyCl+O/QDTWh8b64L8wp+DlFLzcv+TlFLycgte/lCRJkiRJ0r+QxvrQWB/Kv+CHxvrQWL+/QAUvp+DlpL9ABS+n4OWkP8CHxvrQWL8/gMb60Fgfyj+QJEmSJEnSP+DlFLycgtc/KKfg5RS83D88NNaHxvrgP+QUvJyCl+M/jPWhsT405j801ofG+tDoP9i2bdu2bes/gJdT8HIK7j8UvJyCl1PwP2isD431ofE/upyCl1Pw8j8OjfWhsT70P2J9aKwPjfU/tm3btm3b9j8KXk7Byyn4P1xOwcspePk/sD401ofG+j8EL6fg5RT8P1gfGutDY/0/rA+N9aGx/j8AAAAAAAAAQA==\"},\"shape\":[50],\"dtype\":\"float64\",\"order\":\"little\"}],[\"y\",{\"type\":\"ndarray\",\"array\":{\"type\":\"bytes\",\"data\":\"BXJTVyai2r+68xkyo8zVv4EyywP10dC/K7V7RzJ1x7/dv7479zy6vy3eYLE1i5W/ABuhgxYBrz+8cYfEuiTCP4AsPppAasw/xGsK46k/0z9RB13DYSnYP08Ja4Ln6dw/f2/jeJC84D+/R2D4o+fiP9mMytZ78uQ/yDxaoJzZ5j/k5k/Gx5noP5FOECcBMOo/8yP+JJSZ6z+Rc2RDGNTsPwxUlEF13e0/rag1reaz7j8jDrTl/lXvPxqopIupwu8/iOn9Vy357z+I6f1XLfnvPxqopIupwu8/Iw605f5V7z+tqDWt5rPuPw1UlEF13e0/knNkQxjU7D/1I/4klJnrP5JOECcBMOo/5eZPxseZ6D/JPFqgnNnmP9yMytZ78uQ/wkdg+KPn4j+Ab+N4kLzgP1MJa4Ln6dw/WQddw2Ep2D/MawrjqT/TP5AsPppAasw/xHGHxLokwj8AG6GDFgGvP63dYLE1i5W/vb++O/c8ur8jtXtHMnXHv30yywP10dC/uvMZMqPM1b8FclNXJqLavw==\"},\"shape\":[50],\"dtype\":\"float64\",\"order\":\"little\"}]]}}},\"view\":{\"type\":\"object\",\"name\":\"CDSView\",\"id\":\"p1177\",\"attributes\":{\"filter\":{\"type\":\"object\",\"name\":\"AllIndices\",\"id\":\"p1178\"}}},\"glyph\":{\"type\":\"object\",\"name\":\"Circle\",\"id\":\"p1173\",\"attributes\":{\"x\":{\"type\":\"field\",\"field\":\"x\"},\"y\":{\"type\":\"field\",\"field\":\"y\"},\"line_color\":{\"type\":\"value\",\"value\":\"green\"},\"fill_color\":{\"type\":\"value\",\"value\":\"green\"},\"hatch_color\":{\"type\":\"value\",\"value\":\"green\"}}},\"nonselection_glyph\":{\"type\":\"object\",\"name\":\"Circle\",\"id\":\"p1174\",\"attributes\":{\"x\":{\"type\":\"field\",\"field\":\"x\"},\"y\":{\"type\":\"field\",\"field\":\"y\"},\"line_color\":{\"type\":\"value\",\"value\":\"green\"},\"line_alpha\":{\"type\":\"value\",\"value\":0.1},\"fill_color\":{\"type\":\"value\",\"value\":\"green\"},\"fill_alpha\":{\"type\":\"value\",\"value\":0.1},\"hatch_color\":{\"type\":\"value\",\"value\":\"green\"},\"hatch_alpha\":{\"type\":\"value\",\"value\":0.1}}},\"muted_glyph\":{\"type\":\"object\",\"name\":\"Circle\",\"id\":\"p1175\",\"attributes\":{\"x\":{\"type\":\"field\",\"field\":\"x\"},\"y\":{\"type\":\"field\",\"field\":\"y\"},\"line_color\":{\"type\":\"value\",\"value\":\"green\"},\"line_alpha\":{\"type\":\"value\",\"value\":0.2},\"fill_color\":{\"type\":\"value\",\"value\":\"green\"},\"fill_alpha\":{\"type\":\"value\",\"value\":0.2},\"hatch_color\":{\"type\":\"value\",\"value\":\"green\"},\"hatch_alpha\":{\"type\":\"value\",\"value\":0.2}}}}},{\"type\":\"object\",\"name\":\"GlyphRenderer\",\"id\":\"p1186\",\"attributes\":{\"data_source\":{\"type\":\"object\",\"name\":\"ColumnDataSource\",\"id\":\"p1180\",\"attributes\":{\"selected\":{\"type\":\"object\",\"name\":\"Selection\",\"id\":\"p1181\",\"attributes\":{\"indices\":[],\"line_indices\":[]}},\"selection_policy\":{\"type\":\"object\",\"name\":\"UnionRenderers\",\"id\":\"p1182\"},\"data\":{\"type\":\"map\",\"entries\":[[\"x\",{\"type\":\"ndarray\",\"array\":{\"type\":\"bytes\",\"data\":\"AAAAAAAAAMCsD431obH+v1kfGutDY/2/BS+n4OUU/L+yPjTWh8b6v15OwcspePm/Cl5Owcsp+L+3bdu2bdv2v2R9aKwPjfW/EI31obE+9L+8nIKXU/Dyv2msD431ofG/FbycgpdT8L+El1Pwcgruv9y2bdu2beu/NtaHxvrQ6L+O9aGxPjTmv+YUvJyCl+O/QDTWh8b64L8wp+DlFLzcv+TlFLycgte/lCRJkiRJ0r+QxvrQWB/Kv+CHxvrQWL+/QAUvp+DlpL9ABS+n4OWkP8CHxvrQWL8/gMb60Fgfyj+QJEmSJEnSP+DlFLycgtc/KKfg5RS83D88NNaHxvrgP+QUvJyCl+M/jPWhsT405j801ofG+tDoP9i2bdu2bes/gJdT8HIK7j8UvJyCl1PwP2isD431ofE/upyCl1Pw8j8OjfWhsT70P2J9aKwPjfU/tm3btm3b9j8KXk7Byyn4P1xOwcspePk/sD401ofG+j8EL6fg5RT8P1gfGutDY/0/rA+N9aGx/j8AAAAAAAAAQA==\"},\"shape\":[50],\"dtype\":\"float64\",\"order\":\"little\"}],[\"y\",{\"type\":\"ndarray\",\"array\":{\"type\":\"bytes\",\"data\":\"pLY9CwU19b9ea6zsOn70vxPT3u9/pPO/PGRKUEep8r/GQoRjPY7xv/nv8L5EVfC/akjqAeYA7r/bb0WGGiTrv4i84XYIGei/cvYxJuDk5L/6TWD0F43hv/l7IP7FLty/2OEg004T1b8wjzk40afLv2Cjjke787m/wEe4AFyjjD8IE13jO4vAP5gTVuoMMM8/0t+WiNjP1j85xhafxeDdP8bhR75gX+I/L2smYAuv5T9visZtvdnoPwlb+KgQ2us/3QB5Eeeq7j8aaUHPuaPwP5N6KDeh1fE/6sjQLiDp8j8UcyL9YNzzPyhjcOLErfQ/AsKe2+Zb9T/+a9gCnuX1Px6MxYn/SfY/g0TkSWCI9j84zFjoVaD2PxB3Q4u3kfY/pnlnH55c9j/1p6stZAH2P6ajvUClgPU/p6re2zzb9D8cMZ4ERRL0P2ZpAGIUJ/M/XZRE9Dsb8j/lNS9phPDwPxTSyyLWUe8/mNUY+DyN7D/l7dZ89ZfpP6hz8tsKd+Y/A+M+p9Iv4z+H9k9+x4/fPw==\"},\"shape\":[50],\"dtype\":\"float64\",\"order\":\"little\"}]]}}},\"view\":{\"type\":\"object\",\"name\":\"CDSView\",\"id\":\"p1187\",\"attributes\":{\"filter\":{\"type\":\"object\",\"name\":\"AllIndices\",\"id\":\"p1188\"}}},\"glyph\":{\"type\":\"object\",\"name\":\"Scatter\",\"id\":\"p1183\",\"attributes\":{\"x\":{\"type\":\"field\",\"field\":\"x\"},\"y\":{\"type\":\"field\",\"field\":\"y\"},\"line_color\":{\"type\":\"value\",\"value\":\"blue\"},\"fill_color\":{\"type\":\"value\",\"value\":\"blue\"},\"hatch_color\":{\"type\":\"value\",\"value\":\"blue\"},\"marker\":{\"type\":\"value\",\"value\":\"triangle\"}}},\"nonselection_glyph\":{\"type\":\"object\",\"name\":\"Scatter\",\"id\":\"p1184\",\"attributes\":{\"x\":{\"type\":\"field\",\"field\":\"x\"},\"y\":{\"type\":\"field\",\"field\":\"y\"},\"line_color\":{\"type\":\"value\",\"value\":\"blue\"},\"line_alpha\":{\"type\":\"value\",\"value\":0.1},\"fill_color\":{\"type\":\"value\",\"value\":\"blue\"},\"fill_alpha\":{\"type\":\"value\",\"value\":0.1},\"hatch_color\":{\"type\":\"value\",\"value\":\"blue\"},\"hatch_alpha\":{\"type\":\"value\",\"value\":0.1},\"marker\":{\"type\":\"value\",\"value\":\"triangle\"}}},\"muted_glyph\":{\"type\":\"object\",\"name\":\"Scatter\",\"id\":\"p1185\",\"attributes\":{\"x\":{\"type\":\"field\",\"field\":\"x\"},\"y\":{\"type\":\"field\",\"field\":\"y\"},\"line_color\":{\"type\":\"value\",\"value\":\"blue\"},\"line_alpha\":{\"type\":\"value\",\"value\":0.2},\"fill_color\":{\"type\":\"value\",\"value\":\"blue\"},\"fill_alpha\":{\"type\":\"value\",\"value\":0.2},\"hatch_color\":{\"type\":\"value\",\"value\":\"blue\"},\"hatch_alpha\":{\"type\":\"value\",\"value\":0.2},\"marker\":{\"type\":\"value\",\"value\":\"triangle\"}}}}}],\"toolbar\":{\"type\":\"object\",\"name\":\"Toolbar\",\"id\":\"p1135\",\"attributes\":{\"tools\":[{\"type\":\"object\",\"name\":\"PanTool\",\"id\":\"p1148\"},{\"type\":\"object\",\"name\":\"WheelZoomTool\",\"id\":\"p1149\",\"attributes\":{\"renderers\":\"auto\"}},{\"type\":\"object\",\"name\":\"BoxZoomTool\",\"id\":\"p1150\",\"attributes\":{\"overlay\":{\"type\":\"object\",\"name\":\"BoxAnnotation\",\"id\":\"p1151\",\"attributes\":{\"syncable\":false,\"level\":\"overlay\",\"visible\":false,\"left\":{\"type\":\"number\",\"value\":\"nan\"},\"right\":{\"type\":\"number\",\"value\":\"nan\"},\"top\":{\"type\":\"number\",\"value\":\"nan\"},\"bottom\":{\"type\":\"number\",\"value\":\"nan\"},\"left_units\":\"canvas\",\"right_units\":\"canvas\",\"top_units\":\"canvas\",\"bottom_units\":\"canvas\",\"line_color\":\"black\",\"line_alpha\":1.0,\"line_width\":2,\"line_dash\":[4,4],\"fill_color\":\"lightgrey\",\"fill_alpha\":0.5}}}},{\"type\":\"object\",\"name\":\"SaveTool\",\"id\":\"p1156\"},{\"type\":\"object\",\"name\":\"ResetTool\",\"id\":\"p1157\"},{\"type\":\"object\",\"name\":\"HelpTool\",\"id\":\"p1158\"}]}},\"left\":[{\"type\":\"object\",\"name\":\"LinearAxis\",\"id\":\"p1143\",\"attributes\":{\"ticker\":{\"type\":\"object\",\"name\":\"BasicTicker\",\"id\":\"p1144\",\"attributes\":{\"mantissas\":[1,2,5]}},\"formatter\":{\"type\":\"object\",\"name\":\"BasicTickFormatter\",\"id\":\"p1145\"},\"axis_label\":\"Y\",\"major_label_policy\":{\"type\":\"object\",\"name\":\"AllLabels\",\"id\":\"p1146\"}}}],\"below\":[{\"type\":\"object\",\"name\":\"LinearAxis\",\"id\":\"p1138\",\"attributes\":{\"ticker\":{\"type\":\"object\",\"name\":\"BasicTicker\",\"id\":\"p1139\",\"attributes\":{\"mantissas\":[1,2,5]}},\"formatter\":{\"type\":\"object\",\"name\":\"BasicTickFormatter\",\"id\":\"p1140\"},\"axis_label\":\"X\",\"major_label_policy\":{\"type\":\"object\",\"name\":\"AllLabels\",\"id\":\"p1141\"}}}],\"center\":[{\"type\":\"object\",\"name\":\"Grid\",\"id\":\"p1142\",\"attributes\":{\"axis\":{\"id\":\"p1138\"}}},{\"type\":\"object\",\"name\":\"Grid\",\"id\":\"p1147\",\"attributes\":{\"dimension\":1,\"axis\":{\"id\":\"p1143\"}}},{\"type\":\"object\",\"name\":\"Legend\",\"id\":\"p1168\",\"attributes\":{\"items\":[{\"type\":\"object\",\"name\":\"LegendItem\",\"id\":\"p1169\",\"attributes\":{\"label\":{\"type\":\"value\",\"value\":\"Sin(X)\"},\"renderers\":[{\"id\":\"p1165\"}]}},{\"type\":\"object\",\"name\":\"LegendItem\",\"id\":\"p1179\",\"attributes\":{\"label\":{\"type\":\"value\",\"value\":\"Cos(X)\"},\"renderers\":[{\"id\":\"p1176\"}]}},{\"type\":\"object\",\"name\":\"LegendItem\",\"id\":\"p1189\",\"attributes\":{\"label\":{\"type\":\"value\",\"value\":\"Sin(X)+Cos(x)\"},\"renderers\":[{\"id\":\"p1186\"}]}}]}}]}}]}};\n  const render_items = [{\"docid\":\"2e267463-ee07-48a6-a748-fd14a23a2895\",\"roots\":{\"p1127\":\"c8b68065-b5ca-4fb9-b452-2f6c1fb3e045\"},\"root_ids\":[\"p1127\"]}];\n  root.Bokeh.embed.embed_items_notebook(docs_json, render_items);\n  }\n  if (root.Bokeh !== undefined) {\n    embed_document(root);\n  } else {\n    let attempts = 0;\n    const timer = setInterval(function(root) {\n      if (root.Bokeh !== undefined) {\n        clearInterval(timer);\n        embed_document(root);\n      } else {\n        attempts++;\n        if (attempts > 100) {\n          clearInterval(timer);\n          console.log(\"Bokeh: ERROR: Unable to run BokehJS code because BokehJS library is missing\");\n        }\n      }\n    }, 10, root)\n  }\n})(window);",
      "application/vnd.bokehjs_exec.v0+json": ""
     },
     "metadata": {
      "application/vnd.bokehjs_exec.v0+json": {
       "id": "p1127"
      }
     },
     "output_type": "display_data"
    }
   ],
   "source": [
    "p=figure(width=800,height=800,x_axis_label='X',y_axis_label='Y')\n",
    "x=np.linspace(-2,2,50)\n",
    "y1=np.sin(x)\n",
    "y2=np.cos(x)\n",
    "y3=y1+y2\n",
    "\n",
    "p.line(x,y1,legend_label='Sin(X)',color='red')\n",
    "p.circle(x,y2,legend_label='Cos(X)',color='green')\n",
    "p.triangle(x,y3,legend_label='Sin(X)+Cos(x)',color='blue')\n",
    "show(p)\n",
    "\n"
   ]
  },
  {
   "cell_type": "code",
   "execution_count": 11,
   "metadata": {},
   "outputs": [
    {
     "name": "stderr",
     "output_type": "stream",
     "text": [
      "WARNING:bokeh.core.validation.check:W-1000 (MISSING_RENDERERS): Plot has no renderers: figure(id='p1534', ...)\n"
     ]
    },
    {
     "data": {
      "text/html": [
       "\n",
       "  <div id=\"ae779e1b-9fd6-40f0-b3c5-d72f7bf21499\" data-root-id=\"p1623\" style=\"display: contents;\"></div>\n"
      ]
     },
     "metadata": {},
     "output_type": "display_data"
    },
    {
     "data": {
      "application/javascript": "(function(root) {\n  function embed_document(root) {\n  const docs_json = {\"a56462a2-54b6-43f5-85cd-e116a4cfe15a\":{\"version\":\"3.3.3\",\"title\":\"Bokeh Application\",\"roots\":[{\"type\":\"object\",\"name\":\"GridPlot\",\"id\":\"p1623\",\"attributes\":{\"rows\":null,\"cols\":null,\"toolbar\":{\"type\":\"object\",\"name\":\"Toolbar\",\"id\":\"p1622\",\"attributes\":{\"tools\":[{\"type\":\"object\",\"name\":\"ToolProxy\",\"id\":\"p1616\",\"attributes\":{\"tools\":[{\"type\":\"object\",\"name\":\"PanTool\",\"id\":\"p1514\"},{\"type\":\"object\",\"name\":\"PanTool\",\"id\":\"p1555\"},{\"type\":\"object\",\"name\":\"PanTool\",\"id\":\"p1596\"}]}},{\"type\":\"object\",\"name\":\"ToolProxy\",\"id\":\"p1617\",\"attributes\":{\"tools\":[{\"type\":\"object\",\"name\":\"WheelZoomTool\",\"id\":\"p1515\",\"attributes\":{\"renderers\":\"auto\"}},{\"type\":\"object\",\"name\":\"WheelZoomTool\",\"id\":\"p1556\",\"attributes\":{\"renderers\":\"auto\"}},{\"type\":\"object\",\"name\":\"WheelZoomTool\",\"id\":\"p1597\",\"attributes\":{\"renderers\":\"auto\"}}]}},{\"type\":\"object\",\"name\":\"ToolProxy\",\"id\":\"p1618\",\"attributes\":{\"tools\":[{\"type\":\"object\",\"name\":\"BoxZoomTool\",\"id\":\"p1516\",\"attributes\":{\"overlay\":{\"type\":\"object\",\"name\":\"BoxAnnotation\",\"id\":\"p1517\",\"attributes\":{\"syncable\":false,\"level\":\"overlay\",\"visible\":false,\"left\":{\"type\":\"number\",\"value\":\"nan\"},\"right\":{\"type\":\"number\",\"value\":\"nan\"},\"top\":{\"type\":\"number\",\"value\":\"nan\"},\"bottom\":{\"type\":\"number\",\"value\":\"nan\"},\"left_units\":\"canvas\",\"right_units\":\"canvas\",\"top_units\":\"canvas\",\"bottom_units\":\"canvas\",\"line_color\":\"black\",\"line_alpha\":1.0,\"line_width\":2,\"line_dash\":[4,4],\"fill_color\":\"lightgrey\",\"fill_alpha\":0.5}}}},{\"type\":\"object\",\"name\":\"BoxZoomTool\",\"id\":\"p1557\",\"attributes\":{\"overlay\":{\"type\":\"object\",\"name\":\"BoxAnnotation\",\"id\":\"p1558\",\"attributes\":{\"syncable\":false,\"level\":\"overlay\",\"visible\":false,\"left\":{\"type\":\"number\",\"value\":\"nan\"},\"right\":{\"type\":\"number\",\"value\":\"nan\"},\"top\":{\"type\":\"number\",\"value\":\"nan\"},\"bottom\":{\"type\":\"number\",\"value\":\"nan\"},\"left_units\":\"canvas\",\"right_units\":\"canvas\",\"top_units\":\"canvas\",\"bottom_units\":\"canvas\",\"line_color\":\"black\",\"line_alpha\":1.0,\"line_width\":2,\"line_dash\":[4,4],\"fill_color\":\"lightgrey\",\"fill_alpha\":0.5}}}},{\"type\":\"object\",\"name\":\"BoxZoomTool\",\"id\":\"p1598\",\"attributes\":{\"overlay\":{\"type\":\"object\",\"name\":\"BoxAnnotation\",\"id\":\"p1599\",\"attributes\":{\"syncable\":false,\"level\":\"overlay\",\"visible\":false,\"left\":{\"type\":\"number\",\"value\":\"nan\"},\"right\":{\"type\":\"number\",\"value\":\"nan\"},\"top\":{\"type\":\"number\",\"value\":\"nan\"},\"bottom\":{\"type\":\"number\",\"value\":\"nan\"},\"left_units\":\"canvas\",\"right_units\":\"canvas\",\"top_units\":\"canvas\",\"bottom_units\":\"canvas\",\"line_color\":\"black\",\"line_alpha\":1.0,\"line_width\":2,\"line_dash\":[4,4],\"fill_color\":\"lightgrey\",\"fill_alpha\":0.5}}}}]}},{\"type\":\"object\",\"name\":\"SaveTool\",\"id\":\"p1619\"},{\"type\":\"object\",\"name\":\"ToolProxy\",\"id\":\"p1620\",\"attributes\":{\"tools\":[{\"type\":\"object\",\"name\":\"ResetTool\",\"id\":\"p1523\"},{\"type\":\"object\",\"name\":\"ResetTool\",\"id\":\"p1564\"},{\"type\":\"object\",\"name\":\"ResetTool\",\"id\":\"p1605\"}]}},{\"type\":\"object\",\"name\":\"ToolProxy\",\"id\":\"p1621\",\"attributes\":{\"tools\":[{\"type\":\"object\",\"name\":\"HelpTool\",\"id\":\"p1524\"},{\"type\":\"object\",\"name\":\"HelpTool\",\"id\":\"p1565\"},{\"type\":\"object\",\"name\":\"HelpTool\",\"id\":\"p1606\"}]}}]}},\"children\":[[{\"type\":\"object\",\"name\":\"Figure\",\"id\":\"p1493\",\"attributes\":{\"width\":400,\"height\":400,\"x_range\":{\"type\":\"object\",\"name\":\"DataRange1d\",\"id\":\"p1494\"},\"y_range\":{\"type\":\"object\",\"name\":\"DataRange1d\",\"id\":\"p1495\"},\"x_scale\":{\"type\":\"object\",\"name\":\"LinearScale\",\"id\":\"p1502\"},\"y_scale\":{\"type\":\"object\",\"name\":\"LinearScale\",\"id\":\"p1503\"},\"title\":{\"type\":\"object\",\"name\":\"Title\",\"id\":\"p1500\"},\"renderers\":[{\"type\":\"object\",\"name\":\"GlyphRenderer\",\"id\":\"p1531\",\"attributes\":{\"data_source\":{\"type\":\"object\",\"name\":\"ColumnDataSource\",\"id\":\"p1525\",\"attributes\":{\"selected\":{\"type\":\"object\",\"name\":\"Selection\",\"id\":\"p1526\",\"attributes\":{\"indices\":[],\"line_indices\":[]}},\"selection_policy\":{\"type\":\"object\",\"name\":\"UnionRenderers\",\"id\":\"p1527\"},\"data\":{\"type\":\"map\",\"entries\":[[\"x\",{\"type\":\"ndarray\",\"array\":{\"type\":\"bytes\",\"data\":\"AAAAAAAAAMCsD431obH+v1kfGutDY/2/BS+n4OUU/L+yPjTWh8b6v15OwcspePm/Cl5Owcsp+L+3bdu2bdv2v2R9aKwPjfW/EI31obE+9L+8nIKXU/Dyv2msD431ofG/FbycgpdT8L+El1Pwcgruv9y2bdu2beu/NtaHxvrQ6L+O9aGxPjTmv+YUvJyCl+O/QDTWh8b64L8wp+DlFLzcv+TlFLycgte/lCRJkiRJ0r+QxvrQWB/Kv+CHxvrQWL+/QAUvp+DlpL9ABS+n4OWkP8CHxvrQWL8/gMb60Fgfyj+QJEmSJEnSP+DlFLycgtc/KKfg5RS83D88NNaHxvrgP+QUvJyCl+M/jPWhsT405j801ofG+tDoP9i2bdu2bes/gJdT8HIK7j8UvJyCl1PwP2isD431ofE/upyCl1Pw8j8OjfWhsT70P2J9aKwPjfU/tm3btm3b9j8KXk7Byyn4P1xOwcspePk/sD401ofG+j8EL6fg5RT8P1gfGutDY/0/rA+N9aGx/j8AAAAAAAAAQA==\"},\"shape\":[50],\"dtype\":\"float64\",\"order\":\"little\"}],[\"y\",{\"type\":\"ndarray\",\"array\":{\"type\":\"bytes\",\"data\":\"RrTR6vYY7b/g3EtAJBbuv+UM2F0F4O6/Ldu1DkJ177+QrZDf29TvvwHZVtAv/u+/Glokavfw779KTGc3Sa3vv6hHcZ2YM++/VCy3F7WE7r+j0Q7WyKHtv6TCRcBWjOy/a+Bz4jdG67+Lq25GmNHpv0VhvD/zMOi/qVtXMA9n5r8ionjN+Hbkv6vJeuz9Y+K/CrSy4Kcx4L/pILLnasfbv4zkmAYp/Na//HoemrYJ0r/QDrbfBfHJv4doYhXHRL+/t4pOaGTkpL+3ik5oZOSkP2doYhXHRL8/wQ623wXxyT/4eh6atgnSP4jkmAYp/NY/4iCy52rH2z8HtLLgpzHgP6nJeuz9Y+I/IaJ4zfh25D+oW1cwD2fmP0NhvD/zMOg/iatuRpjR6T9q4HPiN0brP6PCRcBWjOw/odEO1sih7T9TLLcXtYTuP6hHcZ2YM+8/SUxnN0mt7z8aWiRq9/DvPwHZVtAv/u8/kK2Q39vU7z8u27UOQnXvP+YM2F0F4O4/4NxLQCQW7j9GtNHq9hjtPw==\"},\"shape\":[50],\"dtype\":\"float64\",\"order\":\"little\"}]]}}},\"view\":{\"type\":\"object\",\"name\":\"CDSView\",\"id\":\"p1532\",\"attributes\":{\"filter\":{\"type\":\"object\",\"name\":\"AllIndices\",\"id\":\"p1533\"}}},\"glyph\":{\"type\":\"object\",\"name\":\"Circle\",\"id\":\"p1528\",\"attributes\":{\"x\":{\"type\":\"field\",\"field\":\"x\"},\"y\":{\"type\":\"field\",\"field\":\"y\"},\"size\":{\"type\":\"value\",\"value\":10},\"line_color\":{\"type\":\"value\",\"value\":\"firebrick\"},\"fill_color\":{\"type\":\"value\",\"value\":\"firebrick\"},\"hatch_color\":{\"type\":\"value\",\"value\":\"firebrick\"}}},\"nonselection_glyph\":{\"type\":\"object\",\"name\":\"Circle\",\"id\":\"p1529\",\"attributes\":{\"x\":{\"type\":\"field\",\"field\":\"x\"},\"y\":{\"type\":\"field\",\"field\":\"y\"},\"size\":{\"type\":\"value\",\"value\":10},\"line_color\":{\"type\":\"value\",\"value\":\"firebrick\"},\"line_alpha\":{\"type\":\"value\",\"value\":0.1},\"fill_color\":{\"type\":\"value\",\"value\":\"firebrick\"},\"fill_alpha\":{\"type\":\"value\",\"value\":0.1},\"hatch_color\":{\"type\":\"value\",\"value\":\"firebrick\"},\"hatch_alpha\":{\"type\":\"value\",\"value\":0.1}}},\"muted_glyph\":{\"type\":\"object\",\"name\":\"Circle\",\"id\":\"p1530\",\"attributes\":{\"x\":{\"type\":\"field\",\"field\":\"x\"},\"y\":{\"type\":\"field\",\"field\":\"y\"},\"size\":{\"type\":\"value\",\"value\":10},\"line_color\":{\"type\":\"value\",\"value\":\"firebrick\"},\"line_alpha\":{\"type\":\"value\",\"value\":0.2},\"fill_color\":{\"type\":\"value\",\"value\":\"firebrick\"},\"fill_alpha\":{\"type\":\"value\",\"value\":0.2},\"hatch_color\":{\"type\":\"value\",\"value\":\"firebrick\"},\"hatch_alpha\":{\"type\":\"value\",\"value\":0.2}}}}},{\"type\":\"object\",\"name\":\"GlyphRenderer\",\"id\":\"p1572\",\"attributes\":{\"data_source\":{\"type\":\"object\",\"name\":\"ColumnDataSource\",\"id\":\"p1566\",\"attributes\":{\"selected\":{\"type\":\"object\",\"name\":\"Selection\",\"id\":\"p1567\",\"attributes\":{\"indices\":[],\"line_indices\":[]}},\"selection_policy\":{\"type\":\"object\",\"name\":\"UnionRenderers\",\"id\":\"p1568\"},\"data\":{\"type\":\"map\",\"entries\":[[\"x\",{\"type\":\"ndarray\",\"array\":{\"type\":\"bytes\",\"data\":\"AAAAAAAAAMCsD431obH+v1kfGutDY/2/BS+n4OUU/L+yPjTWh8b6v15OwcspePm/Cl5Owcsp+L+3bdu2bdv2v2R9aKwPjfW/EI31obE+9L+8nIKXU/Dyv2msD431ofG/FbycgpdT8L+El1Pwcgruv9y2bdu2beu/NtaHxvrQ6L+O9aGxPjTmv+YUvJyCl+O/QDTWh8b64L8wp+DlFLzcv+TlFLycgte/lCRJkiRJ0r+QxvrQWB/Kv+CHxvrQWL+/QAUvp+DlpL9ABS+n4OWkP8CHxvrQWL8/gMb60Fgfyj+QJEmSJEnSP+DlFLycgtc/KKfg5RS83D88NNaHxvrgP+QUvJyCl+M/jPWhsT405j801ofG+tDoP9i2bdu2bes/gJdT8HIK7j8UvJyCl1PwP2isD431ofE/upyCl1Pw8j8OjfWhsT70P2J9aKwPjfU/tm3btm3b9j8KXk7Byyn4P1xOwcspePk/sD401ofG+j8EL6fg5RT8P1gfGutDY/0/rA+N9aGx/j8AAAAAAAAAQA==\"},\"shape\":[50],\"dtype\":\"float64\",\"order\":\"little\"}],[\"y\",{\"type\":\"ndarray\",\"array\":{\"type\":\"bytes\",\"data\":\"BXJTVyai2r+68xkyo8zVv4EyywP10dC/K7V7RzJ1x7/dv7479zy6vy3eYLE1i5W/ABuhgxYBrz+8cYfEuiTCP4AsPppAasw/xGsK46k/0z9RB13DYSnYP08Ja4Ln6dw/f2/jeJC84D+/R2D4o+fiP9mMytZ78uQ/yDxaoJzZ5j/k5k/Gx5noP5FOECcBMOo/8yP+JJSZ6z+Rc2RDGNTsPwxUlEF13e0/rag1reaz7j8jDrTl/lXvPxqopIupwu8/iOn9Vy357z+I6f1XLfnvPxqopIupwu8/Iw605f5V7z+tqDWt5rPuPw1UlEF13e0/knNkQxjU7D/1I/4klJnrP5JOECcBMOo/5eZPxseZ6D/JPFqgnNnmP9yMytZ78uQ/wkdg+KPn4j+Ab+N4kLzgP1MJa4Ln6dw/WQddw2Ep2D/MawrjqT/TP5AsPppAasw/xHGHxLokwj8AG6GDFgGvP63dYLE1i5W/vb++O/c8ur8jtXtHMnXHv30yywP10dC/uvMZMqPM1b8FclNXJqLavw==\"},\"shape\":[50],\"dtype\":\"float64\",\"order\":\"little\"}]]}}},\"view\":{\"type\":\"object\",\"name\":\"CDSView\",\"id\":\"p1573\",\"attributes\":{\"filter\":{\"type\":\"object\",\"name\":\"AllIndices\",\"id\":\"p1574\"}}},\"glyph\":{\"type\":\"object\",\"name\":\"Scatter\",\"id\":\"p1569\",\"attributes\":{\"x\":{\"type\":\"field\",\"field\":\"x\"},\"y\":{\"type\":\"field\",\"field\":\"y\"},\"size\":{\"type\":\"value\",\"value\":10},\"line_color\":{\"type\":\"value\",\"value\":\"olive\"},\"fill_color\":{\"type\":\"value\",\"value\":\"olive\"},\"hatch_color\":{\"type\":\"value\",\"value\":\"olive\"},\"marker\":{\"type\":\"value\",\"value\":\"triangle\"}}},\"nonselection_glyph\":{\"type\":\"object\",\"name\":\"Scatter\",\"id\":\"p1570\",\"attributes\":{\"x\":{\"type\":\"field\",\"field\":\"x\"},\"y\":{\"type\":\"field\",\"field\":\"y\"},\"size\":{\"type\":\"value\",\"value\":10},\"line_color\":{\"type\":\"value\",\"value\":\"olive\"},\"line_alpha\":{\"type\":\"value\",\"value\":0.1},\"fill_color\":{\"type\":\"value\",\"value\":\"olive\"},\"fill_alpha\":{\"type\":\"value\",\"value\":0.1},\"hatch_color\":{\"type\":\"value\",\"value\":\"olive\"},\"hatch_alpha\":{\"type\":\"value\",\"value\":0.1},\"marker\":{\"type\":\"value\",\"value\":\"triangle\"}}},\"muted_glyph\":{\"type\":\"object\",\"name\":\"Scatter\",\"id\":\"p1571\",\"attributes\":{\"x\":{\"type\":\"field\",\"field\":\"x\"},\"y\":{\"type\":\"field\",\"field\":\"y\"},\"size\":{\"type\":\"value\",\"value\":10},\"line_color\":{\"type\":\"value\",\"value\":\"olive\"},\"line_alpha\":{\"type\":\"value\",\"value\":0.2},\"fill_color\":{\"type\":\"value\",\"value\":\"olive\"},\"fill_alpha\":{\"type\":\"value\",\"value\":0.2},\"hatch_color\":{\"type\":\"value\",\"value\":\"olive\"},\"hatch_alpha\":{\"type\":\"value\",\"value\":0.2},\"marker\":{\"type\":\"value\",\"value\":\"triangle\"}}}}}],\"toolbar\":{\"type\":\"object\",\"name\":\"Toolbar\",\"id\":\"p1501\",\"attributes\":{\"tools\":[{\"id\":\"p1514\"},{\"id\":\"p1515\"},{\"id\":\"p1516\"},{\"type\":\"object\",\"name\":\"SaveTool\",\"id\":\"p1522\"},{\"id\":\"p1523\"},{\"id\":\"p1524\"}]}},\"toolbar_location\":null,\"left\":[{\"type\":\"object\",\"name\":\"LinearAxis\",\"id\":\"p1509\",\"attributes\":{\"ticker\":{\"type\":\"object\",\"name\":\"BasicTicker\",\"id\":\"p1510\",\"attributes\":{\"mantissas\":[1,2,5]}},\"formatter\":{\"type\":\"object\",\"name\":\"BasicTickFormatter\",\"id\":\"p1511\"},\"major_label_policy\":{\"type\":\"object\",\"name\":\"AllLabels\",\"id\":\"p1512\"}}}],\"below\":[{\"type\":\"object\",\"name\":\"LinearAxis\",\"id\":\"p1504\",\"attributes\":{\"ticker\":{\"type\":\"object\",\"name\":\"BasicTicker\",\"id\":\"p1505\",\"attributes\":{\"mantissas\":[1,2,5]}},\"formatter\":{\"type\":\"object\",\"name\":\"BasicTickFormatter\",\"id\":\"p1506\"},\"major_label_policy\":{\"type\":\"object\",\"name\":\"AllLabels\",\"id\":\"p1507\"}}}],\"center\":[{\"type\":\"object\",\"name\":\"Grid\",\"id\":\"p1508\",\"attributes\":{\"axis\":{\"id\":\"p1504\"}}},{\"type\":\"object\",\"name\":\"Grid\",\"id\":\"p1513\",\"attributes\":{\"dimension\":1,\"axis\":{\"id\":\"p1509\"}}}]}},0,0],[{\"type\":\"object\",\"name\":\"Figure\",\"id\":\"p1534\",\"attributes\":{\"width\":400,\"height\":400,\"x_range\":{\"type\":\"object\",\"name\":\"DataRange1d\",\"id\":\"p1535\"},\"y_range\":{\"type\":\"object\",\"name\":\"DataRange1d\",\"id\":\"p1536\"},\"x_scale\":{\"type\":\"object\",\"name\":\"LinearScale\",\"id\":\"p1543\"},\"y_scale\":{\"type\":\"object\",\"name\":\"LinearScale\",\"id\":\"p1544\"},\"title\":{\"type\":\"object\",\"name\":\"Title\",\"id\":\"p1541\"},\"toolbar\":{\"type\":\"object\",\"name\":\"Toolbar\",\"id\":\"p1542\",\"attributes\":{\"tools\":[{\"id\":\"p1555\"},{\"id\":\"p1556\"},{\"id\":\"p1557\"},{\"type\":\"object\",\"name\":\"SaveTool\",\"id\":\"p1563\"},{\"id\":\"p1564\"},{\"id\":\"p1565\"}]}},\"toolbar_location\":null,\"left\":[{\"type\":\"object\",\"name\":\"LinearAxis\",\"id\":\"p1550\",\"attributes\":{\"ticker\":{\"type\":\"object\",\"name\":\"BasicTicker\",\"id\":\"p1551\",\"attributes\":{\"mantissas\":[1,2,5]}},\"formatter\":{\"type\":\"object\",\"name\":\"BasicTickFormatter\",\"id\":\"p1552\"},\"major_label_policy\":{\"type\":\"object\",\"name\":\"AllLabels\",\"id\":\"p1553\"}}}],\"below\":[{\"type\":\"object\",\"name\":\"LinearAxis\",\"id\":\"p1545\",\"attributes\":{\"ticker\":{\"type\":\"object\",\"name\":\"BasicTicker\",\"id\":\"p1546\",\"attributes\":{\"mantissas\":[1,2,5]}},\"formatter\":{\"type\":\"object\",\"name\":\"BasicTickFormatter\",\"id\":\"p1547\"},\"major_label_policy\":{\"type\":\"object\",\"name\":\"AllLabels\",\"id\":\"p1548\"}}}],\"center\":[{\"type\":\"object\",\"name\":\"Grid\",\"id\":\"p1549\",\"attributes\":{\"axis\":{\"id\":\"p1545\"}}},{\"type\":\"object\",\"name\":\"Grid\",\"id\":\"p1554\",\"attributes\":{\"dimension\":1,\"axis\":{\"id\":\"p1550\"}}}]}},0,1],[{\"type\":\"object\",\"name\":\"Figure\",\"id\":\"p1575\",\"attributes\":{\"width\":400,\"height\":400,\"x_range\":{\"type\":\"object\",\"name\":\"DataRange1d\",\"id\":\"p1576\"},\"y_range\":{\"type\":\"object\",\"name\":\"DataRange1d\",\"id\":\"p1577\"},\"x_scale\":{\"type\":\"object\",\"name\":\"LinearScale\",\"id\":\"p1584\"},\"y_scale\":{\"type\":\"object\",\"name\":\"LinearScale\",\"id\":\"p1585\"},\"title\":{\"type\":\"object\",\"name\":\"Title\",\"id\":\"p1582\"},\"renderers\":[{\"type\":\"object\",\"name\":\"GlyphRenderer\",\"id\":\"p1613\",\"attributes\":{\"data_source\":{\"type\":\"object\",\"name\":\"ColumnDataSource\",\"id\":\"p1607\",\"attributes\":{\"selected\":{\"type\":\"object\",\"name\":\"Selection\",\"id\":\"p1608\",\"attributes\":{\"indices\":[],\"line_indices\":[]}},\"selection_policy\":{\"type\":\"object\",\"name\":\"UnionRenderers\",\"id\":\"p1609\"},\"data\":{\"type\":\"map\",\"entries\":[[\"x\",{\"type\":\"ndarray\",\"array\":{\"type\":\"bytes\",\"data\":\"AAAAAAAAAMCsD431obH+v1kfGutDY/2/BS+n4OUU/L+yPjTWh8b6v15OwcspePm/Cl5Owcsp+L+3bdu2bdv2v2R9aKwPjfW/EI31obE+9L+8nIKXU/Dyv2msD431ofG/FbycgpdT8L+El1Pwcgruv9y2bdu2beu/NtaHxvrQ6L+O9aGxPjTmv+YUvJyCl+O/QDTWh8b64L8wp+DlFLzcv+TlFLycgte/lCRJkiRJ0r+QxvrQWB/Kv+CHxvrQWL+/QAUvp+DlpL9ABS+n4OWkP8CHxvrQWL8/gMb60Fgfyj+QJEmSJEnSP+DlFLycgtc/KKfg5RS83D88NNaHxvrgP+QUvJyCl+M/jPWhsT405j801ofG+tDoP9i2bdu2bes/gJdT8HIK7j8UvJyCl1PwP2isD431ofE/upyCl1Pw8j8OjfWhsT70P2J9aKwPjfU/tm3btm3b9j8KXk7Byyn4P1xOwcspePk/sD401ofG+j8EL6fg5RT8P1gfGutDY/0/rA+N9aGx/j8AAAAAAAAAQA==\"},\"shape\":[50],\"dtype\":\"float64\",\"order\":\"little\"}],[\"y\",{\"type\":\"ndarray\",\"array\":{\"type\":\"bytes\",\"data\":\"pLY9CwU19b9ea6zsOn70vxPT3u9/pPO/PGRKUEep8r/GQoRjPY7xv/nv8L5EVfC/akjqAeYA7r/bb0WGGiTrv4i84XYIGei/cvYxJuDk5L/6TWD0F43hv/l7IP7FLty/2OEg004T1b8wjzk40afLv2Cjjke787m/wEe4AFyjjD8IE13jO4vAP5gTVuoMMM8/0t+WiNjP1j85xhafxeDdP8bhR75gX+I/L2smYAuv5T9visZtvdnoPwlb+KgQ2us/3QB5Eeeq7j8aaUHPuaPwP5N6KDeh1fE/6sjQLiDp8j8UcyL9YNzzPyhjcOLErfQ/AsKe2+Zb9T/+a9gCnuX1Px6MxYn/SfY/g0TkSWCI9j84zFjoVaD2PxB3Q4u3kfY/pnlnH55c9j/1p6stZAH2P6ajvUClgPU/p6re2zzb9D8cMZ4ERRL0P2ZpAGIUJ/M/XZRE9Dsb8j/lNS9phPDwPxTSyyLWUe8/mNUY+DyN7D/l7dZ89ZfpP6hz8tsKd+Y/A+M+p9Iv4z+H9k9+x4/fPw==\"},\"shape\":[50],\"dtype\":\"float64\",\"order\":\"little\"}]]}}},\"view\":{\"type\":\"object\",\"name\":\"CDSView\",\"id\":\"p1614\",\"attributes\":{\"filter\":{\"type\":\"object\",\"name\":\"AllIndices\",\"id\":\"p1615\"}}},\"glyph\":{\"type\":\"object\",\"name\":\"Scatter\",\"id\":\"p1610\",\"attributes\":{\"x\":{\"type\":\"field\",\"field\":\"x\"},\"y\":{\"type\":\"field\",\"field\":\"y\"},\"size\":{\"type\":\"value\",\"value\":10},\"line_color\":{\"type\":\"value\",\"value\":\"cyan\"},\"fill_color\":{\"type\":\"value\",\"value\":\"cyan\"},\"hatch_color\":{\"type\":\"value\",\"value\":\"cyan\"},\"marker\":{\"type\":\"value\",\"value\":\"square\"}}},\"nonselection_glyph\":{\"type\":\"object\",\"name\":\"Scatter\",\"id\":\"p1611\",\"attributes\":{\"x\":{\"type\":\"field\",\"field\":\"x\"},\"y\":{\"type\":\"field\",\"field\":\"y\"},\"size\":{\"type\":\"value\",\"value\":10},\"line_color\":{\"type\":\"value\",\"value\":\"cyan\"},\"line_alpha\":{\"type\":\"value\",\"value\":0.1},\"fill_color\":{\"type\":\"value\",\"value\":\"cyan\"},\"fill_alpha\":{\"type\":\"value\",\"value\":0.1},\"hatch_color\":{\"type\":\"value\",\"value\":\"cyan\"},\"hatch_alpha\":{\"type\":\"value\",\"value\":0.1},\"marker\":{\"type\":\"value\",\"value\":\"square\"}}},\"muted_glyph\":{\"type\":\"object\",\"name\":\"Scatter\",\"id\":\"p1612\",\"attributes\":{\"x\":{\"type\":\"field\",\"field\":\"x\"},\"y\":{\"type\":\"field\",\"field\":\"y\"},\"size\":{\"type\":\"value\",\"value\":10},\"line_color\":{\"type\":\"value\",\"value\":\"cyan\"},\"line_alpha\":{\"type\":\"value\",\"value\":0.2},\"fill_color\":{\"type\":\"value\",\"value\":\"cyan\"},\"fill_alpha\":{\"type\":\"value\",\"value\":0.2},\"hatch_color\":{\"type\":\"value\",\"value\":\"cyan\"},\"hatch_alpha\":{\"type\":\"value\",\"value\":0.2},\"marker\":{\"type\":\"value\",\"value\":\"square\"}}}}}],\"toolbar\":{\"type\":\"object\",\"name\":\"Toolbar\",\"id\":\"p1583\",\"attributes\":{\"tools\":[{\"id\":\"p1596\"},{\"id\":\"p1597\"},{\"id\":\"p1598\"},{\"type\":\"object\",\"name\":\"SaveTool\",\"id\":\"p1604\"},{\"id\":\"p1605\"},{\"id\":\"p1606\"}]}},\"toolbar_location\":null,\"left\":[{\"type\":\"object\",\"name\":\"LinearAxis\",\"id\":\"p1591\",\"attributes\":{\"ticker\":{\"type\":\"object\",\"name\":\"BasicTicker\",\"id\":\"p1592\",\"attributes\":{\"mantissas\":[1,2,5]}},\"formatter\":{\"type\":\"object\",\"name\":\"BasicTickFormatter\",\"id\":\"p1593\"},\"major_label_policy\":{\"type\":\"object\",\"name\":\"AllLabels\",\"id\":\"p1594\"}}}],\"below\":[{\"type\":\"object\",\"name\":\"LinearAxis\",\"id\":\"p1586\",\"attributes\":{\"ticker\":{\"type\":\"object\",\"name\":\"BasicTicker\",\"id\":\"p1587\",\"attributes\":{\"mantissas\":[1,2,5]}},\"formatter\":{\"type\":\"object\",\"name\":\"BasicTickFormatter\",\"id\":\"p1588\"},\"major_label_policy\":{\"type\":\"object\",\"name\":\"AllLabels\",\"id\":\"p1589\"}}}],\"center\":[{\"type\":\"object\",\"name\":\"Grid\",\"id\":\"p1590\",\"attributes\":{\"axis\":{\"id\":\"p1586\"}}},{\"type\":\"object\",\"name\":\"Grid\",\"id\":\"p1595\",\"attributes\":{\"dimension\":1,\"axis\":{\"id\":\"p1591\"}}}]}},0,2]]}}]}};\n  const render_items = [{\"docid\":\"a56462a2-54b6-43f5-85cd-e116a4cfe15a\",\"roots\":{\"p1623\":\"ae779e1b-9fd6-40f0-b3c5-d72f7bf21499\"},\"root_ids\":[\"p1623\"]}];\n  root.Bokeh.embed.embed_items_notebook(docs_json, render_items);\n  }\n  if (root.Bokeh !== undefined) {\n    embed_document(root);\n  } else {\n    let attempts = 0;\n    const timer = setInterval(function(root) {\n      if (root.Bokeh !== undefined) {\n        clearInterval(timer);\n        embed_document(root);\n      } else {\n        attempts++;\n        if (attempts > 100) {\n          clearInterval(timer);\n          console.log(\"Bokeh: ERROR: Unable to run BokehJS code because BokehJS library is missing\");\n        }\n      }\n    }, 10, root)\n  }\n})(window);",
      "application/vnd.bokehjs_exec.v0+json": ""
     },
     "metadata": {
      "application/vnd.bokehjs_exec.v0+json": {
       "id": "p1623"
      }
     },
     "output_type": "display_data"
    },
    {
     "name": "stderr",
     "output_type": "stream",
     "text": [
      "WARNING:bokeh.core.validation.check:W-1000 (MISSING_RENDERERS): Plot has no renderers: figure(id='p1534', ...)\n"
     ]
    }
   ],
   "source": [
    "from bokeh.layouts import gridplot\n",
    "\n",
    "x=np.linspace(-2,2,50)\n",
    "y1=np.sin(x)\n",
    "y2=np.cos(x)\n",
    "y3=y1+y2\n",
    "\n",
    "s1=figure(height=400,width=400)\n",
    "s1.circle(x,y1,size=10,color='firebrick')\n",
    "s2=figure(height=400,width=400)\n",
    "s1.triangle(x,y2,size=10,color='olive')\n",
    "s3=figure(height=400,width=400)\n",
    "s3.square(x,y3,size=10,color='cyan')\n",
    "p=gridplot([[s1,s2,s3]])\n",
    "show(p)\n",
    "output_file('index.html')\n",
    "\n"
   ]
  },
  {
   "cell_type": "code",
   "execution_count": 14,
   "metadata": {},
   "outputs": [
    {
     "data": {
      "application/vnd.plotly.v1+json": {
       "config": {
        "plotlyServerURL": "https://plot.ly"
       },
       "data": [
        {
         "marker": {
          "color": [
           0,
           0.20408163265306123,
           0.40816326530612246,
           0.6122448979591837,
           0.8163265306122449,
           1.0204081632653061,
           1.2244897959183674,
           1.4285714285714286,
           1.6326530612244898,
           1.836734693877551,
           2.0408163265306123,
           2.2448979591836737,
           2.4489795918367347,
           2.6530612244897958,
           2.857142857142857,
           3.0612244897959187,
           3.2653061224489797,
           3.4693877551020407,
           3.673469387755102,
           3.8775510204081636,
           4.081632653061225,
           4.285714285714286,
           4.4897959183673475,
           4.6938775510204085,
           4.8979591836734695,
           5.1020408163265305,
           5.3061224489795915,
           5.510204081632653,
           5.714285714285714,
           5.918367346938775,
           6.122448979591837,
           6.326530612244898,
           6.530612244897959,
           6.73469387755102,
           6.938775510204081,
           7.142857142857143,
           7.346938775510204,
           7.551020408163265,
           7.755102040816327,
           7.959183673469388,
           8.16326530612245,
           8.36734693877551,
           8.571428571428571,
           8.775510204081632,
           8.979591836734695,
           9.183673469387756,
           9.387755102040817,
           9.591836734693878,
           9.795918367346939,
           10
          ],
          "colorscale": [
           [
            0,
            "#440154"
           ],
           [
            0.1111111111111111,
            "#482878"
           ],
           [
            0.2222222222222222,
            "#3e4989"
           ],
           [
            0.3333333333333333,
            "#31688e"
           ],
           [
            0.4444444444444444,
            "#26828e"
           ],
           [
            0.5555555555555556,
            "#1f9e89"
           ],
           [
            0.6666666666666666,
            "#35b779"
           ],
           [
            0.7777777777777778,
            "#6ece58"
           ],
           [
            0.8888888888888888,
            "#b5de2b"
           ],
           [
            1,
            "#fde725"
           ]
          ],
          "size": 12
         },
         "mode": "markers",
         "type": "scatter3d",
         "x": [
          0,
          0.20266793654820095,
          0.39692414892492234,
          0.5747060412161792,
          0.7286347834693504,
          0.8523215697196184,
          0.9406327851124867,
          0.9899030763721239,
          0.9980874821347183,
          0.9648463089837632,
          0.8915592304110037,
          0.7812680235262638,
          0.6385503202266021,
          0.469329612777201,
          0.28062939951435684,
          0.0802816748428135,
          -0.12339813736217871,
          -0.3219563150726187,
          -0.5071517094845144,
          -0.6712977935519321,
          -0.8075816909683364,
          -0.9103469443107827,
          -0.9753282860670456,
          -0.9998286683840896,
          -0.9828312039256306,
          -0.9250413717382029,
          -0.8288577363730427,
          -0.6982723955653996,
          -0.5387052883861563,
          -0.3567792408989381,
          -0.16004508604325057,
          0.04333173336868346,
          0.2449100710119793,
          0.4363234264718193,
          0.6096271964908323,
          0.7576284153927202,
          0.8741842988197335,
          0.9544571997387519,
          0.9951153947776636,
          0.9944713672636168,
          0.9525518475314604,
          0.8710967034823207,
          0.7534867274396376,
          0.6046033165061543,
          0.4306258703827373,
          0.23877531564403087,
          0.03701440148506237,
          -0.1662827938487564,
          -0.3626784288265488,
          -0.5440211108893698
         ],
         "y": [
          1,
          0.9792475210564969,
          0.9178514149905888,
          0.8183599245989673,
          0.6849024400004521,
          0.5230181084730104,
          0.33942593237925484,
          0.14174589725634046,
          -0.061817295362854206,
          -0.262814763741325,
          -0.4529041164186286,
          -0.6241957028171256,
          -0.7695800728569471,
          -0.883023054382162,
          -0.95981620122199,
          -0.996772217050833,
          -0.9923572439880433,
          -0.9467545253046645,
          -0.8618567999191831,
          -0.7411877443484259,
          -0.5897557226621226,
          -0.41384591454310704,
          -0.22075944916926946,
          -0.018510372154503518,
          0.18450697707700792,
          0.37986637199507933,
          0.5594594291408052,
          0.7158321462405541,
          0.842494280256423,
          0.9341887246502055,
          0.9871097053688656,
          0.9990607393363355,
          0.9695457993910898,
          0.8997899018725932,
          0.7926882623697213,
          0.6526861299196696,
          0.48559428713386943,
          0.29834787391040735,
          0.09871854474461515,
          -0.10500809346346798,
          -0.30437637517455507,
          -0.4911115282522227,
          -0.6574631180319587,
          -0.7965267287855184,
          -0.9025305312049615,
          -0.9710748419350043,
          -0.9993147322454036,
          -0.9860781066780927,
          -0.931914350819809,
          -0.8390715290764524
         ],
         "z": [
          0,
          0.20408163265306123,
          0.40816326530612246,
          0.6122448979591837,
          0.8163265306122449,
          1.0204081632653061,
          1.2244897959183674,
          1.4285714285714286,
          1.6326530612244898,
          1.836734693877551,
          2.0408163265306123,
          2.2448979591836737,
          2.4489795918367347,
          2.6530612244897958,
          2.857142857142857,
          3.0612244897959187,
          3.2653061224489797,
          3.4693877551020407,
          3.673469387755102,
          3.8775510204081636,
          4.081632653061225,
          4.285714285714286,
          4.4897959183673475,
          4.6938775510204085,
          4.8979591836734695,
          5.1020408163265305,
          5.3061224489795915,
          5.510204081632653,
          5.714285714285714,
          5.918367346938775,
          6.122448979591837,
          6.326530612244898,
          6.530612244897959,
          6.73469387755102,
          6.938775510204081,
          7.142857142857143,
          7.346938775510204,
          7.551020408163265,
          7.755102040816327,
          7.959183673469388,
          8.16326530612245,
          8.36734693877551,
          8.571428571428571,
          8.775510204081632,
          8.979591836734695,
          9.183673469387756,
          9.387755102040817,
          9.591836734693878,
          9.795918367346939,
          10
         ]
        }
       ],
       "layout": {
        "template": {
         "data": {
          "bar": [
           {
            "error_x": {
             "color": "#2a3f5f"
            },
            "error_y": {
             "color": "#2a3f5f"
            },
            "marker": {
             "line": {
              "color": "#E5ECF6",
              "width": 0.5
             },
             "pattern": {
              "fillmode": "overlay",
              "size": 10,
              "solidity": 0.2
             }
            },
            "type": "bar"
           }
          ],
          "barpolar": [
           {
            "marker": {
             "line": {
              "color": "#E5ECF6",
              "width": 0.5
             },
             "pattern": {
              "fillmode": "overlay",
              "size": 10,
              "solidity": 0.2
             }
            },
            "type": "barpolar"
           }
          ],
          "carpet": [
           {
            "aaxis": {
             "endlinecolor": "#2a3f5f",
             "gridcolor": "white",
             "linecolor": "white",
             "minorgridcolor": "white",
             "startlinecolor": "#2a3f5f"
            },
            "baxis": {
             "endlinecolor": "#2a3f5f",
             "gridcolor": "white",
             "linecolor": "white",
             "minorgridcolor": "white",
             "startlinecolor": "#2a3f5f"
            },
            "type": "carpet"
           }
          ],
          "choropleth": [
           {
            "colorbar": {
             "outlinewidth": 0,
             "ticks": ""
            },
            "type": "choropleth"
           }
          ],
          "contour": [
           {
            "colorbar": {
             "outlinewidth": 0,
             "ticks": ""
            },
            "colorscale": [
             [
              0,
              "#0d0887"
             ],
             [
              0.1111111111111111,
              "#46039f"
             ],
             [
              0.2222222222222222,
              "#7201a8"
             ],
             [
              0.3333333333333333,
              "#9c179e"
             ],
             [
              0.4444444444444444,
              "#bd3786"
             ],
             [
              0.5555555555555556,
              "#d8576b"
             ],
             [
              0.6666666666666666,
              "#ed7953"
             ],
             [
              0.7777777777777778,
              "#fb9f3a"
             ],
             [
              0.8888888888888888,
              "#fdca26"
             ],
             [
              1,
              "#f0f921"
             ]
            ],
            "type": "contour"
           }
          ],
          "contourcarpet": [
           {
            "colorbar": {
             "outlinewidth": 0,
             "ticks": ""
            },
            "type": "contourcarpet"
           }
          ],
          "heatmap": [
           {
            "colorbar": {
             "outlinewidth": 0,
             "ticks": ""
            },
            "colorscale": [
             [
              0,
              "#0d0887"
             ],
             [
              0.1111111111111111,
              "#46039f"
             ],
             [
              0.2222222222222222,
              "#7201a8"
             ],
             [
              0.3333333333333333,
              "#9c179e"
             ],
             [
              0.4444444444444444,
              "#bd3786"
             ],
             [
              0.5555555555555556,
              "#d8576b"
             ],
             [
              0.6666666666666666,
              "#ed7953"
             ],
             [
              0.7777777777777778,
              "#fb9f3a"
             ],
             [
              0.8888888888888888,
              "#fdca26"
             ],
             [
              1,
              "#f0f921"
             ]
            ],
            "type": "heatmap"
           }
          ],
          "heatmapgl": [
           {
            "colorbar": {
             "outlinewidth": 0,
             "ticks": ""
            },
            "colorscale": [
             [
              0,
              "#0d0887"
             ],
             [
              0.1111111111111111,
              "#46039f"
             ],
             [
              0.2222222222222222,
              "#7201a8"
             ],
             [
              0.3333333333333333,
              "#9c179e"
             ],
             [
              0.4444444444444444,
              "#bd3786"
             ],
             [
              0.5555555555555556,
              "#d8576b"
             ],
             [
              0.6666666666666666,
              "#ed7953"
             ],
             [
              0.7777777777777778,
              "#fb9f3a"
             ],
             [
              0.8888888888888888,
              "#fdca26"
             ],
             [
              1,
              "#f0f921"
             ]
            ],
            "type": "heatmapgl"
           }
          ],
          "histogram": [
           {
            "marker": {
             "pattern": {
              "fillmode": "overlay",
              "size": 10,
              "solidity": 0.2
             }
            },
            "type": "histogram"
           }
          ],
          "histogram2d": [
           {
            "colorbar": {
             "outlinewidth": 0,
             "ticks": ""
            },
            "colorscale": [
             [
              0,
              "#0d0887"
             ],
             [
              0.1111111111111111,
              "#46039f"
             ],
             [
              0.2222222222222222,
              "#7201a8"
             ],
             [
              0.3333333333333333,
              "#9c179e"
             ],
             [
              0.4444444444444444,
              "#bd3786"
             ],
             [
              0.5555555555555556,
              "#d8576b"
             ],
             [
              0.6666666666666666,
              "#ed7953"
             ],
             [
              0.7777777777777778,
              "#fb9f3a"
             ],
             [
              0.8888888888888888,
              "#fdca26"
             ],
             [
              1,
              "#f0f921"
             ]
            ],
            "type": "histogram2d"
           }
          ],
          "histogram2dcontour": [
           {
            "colorbar": {
             "outlinewidth": 0,
             "ticks": ""
            },
            "colorscale": [
             [
              0,
              "#0d0887"
             ],
             [
              0.1111111111111111,
              "#46039f"
             ],
             [
              0.2222222222222222,
              "#7201a8"
             ],
             [
              0.3333333333333333,
              "#9c179e"
             ],
             [
              0.4444444444444444,
              "#bd3786"
             ],
             [
              0.5555555555555556,
              "#d8576b"
             ],
             [
              0.6666666666666666,
              "#ed7953"
             ],
             [
              0.7777777777777778,
              "#fb9f3a"
             ],
             [
              0.8888888888888888,
              "#fdca26"
             ],
             [
              1,
              "#f0f921"
             ]
            ],
            "type": "histogram2dcontour"
           }
          ],
          "mesh3d": [
           {
            "colorbar": {
             "outlinewidth": 0,
             "ticks": ""
            },
            "type": "mesh3d"
           }
          ],
          "parcoords": [
           {
            "line": {
             "colorbar": {
              "outlinewidth": 0,
              "ticks": ""
             }
            },
            "type": "parcoords"
           }
          ],
          "pie": [
           {
            "automargin": true,
            "type": "pie"
           }
          ],
          "scatter": [
           {
            "fillpattern": {
             "fillmode": "overlay",
             "size": 10,
             "solidity": 0.2
            },
            "type": "scatter"
           }
          ],
          "scatter3d": [
           {
            "line": {
             "colorbar": {
              "outlinewidth": 0,
              "ticks": ""
             }
            },
            "marker": {
             "colorbar": {
              "outlinewidth": 0,
              "ticks": ""
             }
            },
            "type": "scatter3d"
           }
          ],
          "scattercarpet": [
           {
            "marker": {
             "colorbar": {
              "outlinewidth": 0,
              "ticks": ""
             }
            },
            "type": "scattercarpet"
           }
          ],
          "scattergeo": [
           {
            "marker": {
             "colorbar": {
              "outlinewidth": 0,
              "ticks": ""
             }
            },
            "type": "scattergeo"
           }
          ],
          "scattergl": [
           {
            "marker": {
             "colorbar": {
              "outlinewidth": 0,
              "ticks": ""
             }
            },
            "type": "scattergl"
           }
          ],
          "scattermapbox": [
           {
            "marker": {
             "colorbar": {
              "outlinewidth": 0,
              "ticks": ""
             }
            },
            "type": "scattermapbox"
           }
          ],
          "scatterpolar": [
           {
            "marker": {
             "colorbar": {
              "outlinewidth": 0,
              "ticks": ""
             }
            },
            "type": "scatterpolar"
           }
          ],
          "scatterpolargl": [
           {
            "marker": {
             "colorbar": {
              "outlinewidth": 0,
              "ticks": ""
             }
            },
            "type": "scatterpolargl"
           }
          ],
          "scatterternary": [
           {
            "marker": {
             "colorbar": {
              "outlinewidth": 0,
              "ticks": ""
             }
            },
            "type": "scatterternary"
           }
          ],
          "surface": [
           {
            "colorbar": {
             "outlinewidth": 0,
             "ticks": ""
            },
            "colorscale": [
             [
              0,
              "#0d0887"
             ],
             [
              0.1111111111111111,
              "#46039f"
             ],
             [
              0.2222222222222222,
              "#7201a8"
             ],
             [
              0.3333333333333333,
              "#9c179e"
             ],
             [
              0.4444444444444444,
              "#bd3786"
             ],
             [
              0.5555555555555556,
              "#d8576b"
             ],
             [
              0.6666666666666666,
              "#ed7953"
             ],
             [
              0.7777777777777778,
              "#fb9f3a"
             ],
             [
              0.8888888888888888,
              "#fdca26"
             ],
             [
              1,
              "#f0f921"
             ]
            ],
            "type": "surface"
           }
          ],
          "table": [
           {
            "cells": {
             "fill": {
              "color": "#EBF0F8"
             },
             "line": {
              "color": "white"
             }
            },
            "header": {
             "fill": {
              "color": "#C8D4E3"
             },
             "line": {
              "color": "white"
             }
            },
            "type": "table"
           }
          ]
         },
         "layout": {
          "annotationdefaults": {
           "arrowcolor": "#2a3f5f",
           "arrowhead": 0,
           "arrowwidth": 1
          },
          "autotypenumbers": "strict",
          "coloraxis": {
           "colorbar": {
            "outlinewidth": 0,
            "ticks": ""
           }
          },
          "colorscale": {
           "diverging": [
            [
             0,
             "#8e0152"
            ],
            [
             0.1,
             "#c51b7d"
            ],
            [
             0.2,
             "#de77ae"
            ],
            [
             0.3,
             "#f1b6da"
            ],
            [
             0.4,
             "#fde0ef"
            ],
            [
             0.5,
             "#f7f7f7"
            ],
            [
             0.6,
             "#e6f5d0"
            ],
            [
             0.7,
             "#b8e186"
            ],
            [
             0.8,
             "#7fbc41"
            ],
            [
             0.9,
             "#4d9221"
            ],
            [
             1,
             "#276419"
            ]
           ],
           "sequential": [
            [
             0,
             "#0d0887"
            ],
            [
             0.1111111111111111,
             "#46039f"
            ],
            [
             0.2222222222222222,
             "#7201a8"
            ],
            [
             0.3333333333333333,
             "#9c179e"
            ],
            [
             0.4444444444444444,
             "#bd3786"
            ],
            [
             0.5555555555555556,
             "#d8576b"
            ],
            [
             0.6666666666666666,
             "#ed7953"
            ],
            [
             0.7777777777777778,
             "#fb9f3a"
            ],
            [
             0.8888888888888888,
             "#fdca26"
            ],
            [
             1,
             "#f0f921"
            ]
           ],
           "sequentialminus": [
            [
             0,
             "#0d0887"
            ],
            [
             0.1111111111111111,
             "#46039f"
            ],
            [
             0.2222222222222222,
             "#7201a8"
            ],
            [
             0.3333333333333333,
             "#9c179e"
            ],
            [
             0.4444444444444444,
             "#bd3786"
            ],
            [
             0.5555555555555556,
             "#d8576b"
            ],
            [
             0.6666666666666666,
             "#ed7953"
            ],
            [
             0.7777777777777778,
             "#fb9f3a"
            ],
            [
             0.8888888888888888,
             "#fdca26"
            ],
            [
             1,
             "#f0f921"
            ]
           ]
          },
          "colorway": [
           "#636efa",
           "#EF553B",
           "#00cc96",
           "#ab63fa",
           "#FFA15A",
           "#19d3f3",
           "#FF6692",
           "#B6E880",
           "#FF97FF",
           "#FECB52"
          ],
          "font": {
           "color": "#2a3f5f"
          },
          "geo": {
           "bgcolor": "white",
           "lakecolor": "white",
           "landcolor": "#E5ECF6",
           "showlakes": true,
           "showland": true,
           "subunitcolor": "white"
          },
          "hoverlabel": {
           "align": "left"
          },
          "hovermode": "closest",
          "mapbox": {
           "style": "light"
          },
          "paper_bgcolor": "white",
          "plot_bgcolor": "#E5ECF6",
          "polar": {
           "angularaxis": {
            "gridcolor": "white",
            "linecolor": "white",
            "ticks": ""
           },
           "bgcolor": "#E5ECF6",
           "radialaxis": {
            "gridcolor": "white",
            "linecolor": "white",
            "ticks": ""
           }
          },
          "scene": {
           "xaxis": {
            "backgroundcolor": "#E5ECF6",
            "gridcolor": "white",
            "gridwidth": 2,
            "linecolor": "white",
            "showbackground": true,
            "ticks": "",
            "zerolinecolor": "white"
           },
           "yaxis": {
            "backgroundcolor": "#E5ECF6",
            "gridcolor": "white",
            "gridwidth": 2,
            "linecolor": "white",
            "showbackground": true,
            "ticks": "",
            "zerolinecolor": "white"
           },
           "zaxis": {
            "backgroundcolor": "#E5ECF6",
            "gridcolor": "white",
            "gridwidth": 2,
            "linecolor": "white",
            "showbackground": true,
            "ticks": "",
            "zerolinecolor": "white"
           }
          },
          "shapedefaults": {
           "line": {
            "color": "#2a3f5f"
           }
          },
          "ternary": {
           "aaxis": {
            "gridcolor": "white",
            "linecolor": "white",
            "ticks": ""
           },
           "baxis": {
            "gridcolor": "white",
            "linecolor": "white",
            "ticks": ""
           },
           "bgcolor": "#E5ECF6",
           "caxis": {
            "gridcolor": "white",
            "linecolor": "white",
            "ticks": ""
           }
          },
          "title": {
           "x": 0.05
          },
          "xaxis": {
           "automargin": true,
           "gridcolor": "white",
           "linecolor": "white",
           "ticks": "",
           "title": {
            "standoff": 15
           },
           "zerolinecolor": "white",
           "zerolinewidth": 2
          },
          "yaxis": {
           "automargin": true,
           "gridcolor": "white",
           "linecolor": "white",
           "ticks": "",
           "title": {
            "standoff": 15
           },
           "zerolinecolor": "white",
           "zerolinewidth": 2
          }
         }
        },
        "title": {
         "text": "3D"
        }
       }
      }
     },
     "metadata": {},
     "output_type": "display_data"
    }
   ],
   "source": [
    "import plotly.graph_objects as go\n",
    "\n",
    "z=np.linspace(0,10,50)\n",
    "x=np.sin(z)\n",
    "y=np.cos(z)\n",
    "\n",
    "trace=go.Scatter3d(x=x,y=y,z=z,mode='markers',marker=dict(size=12,color=z,colorscale='viridis'))\n",
    "layout=go.Layout(title='3D')\n",
    "fig=go.Figure(data=[trace],layout=layout)\n",
    "fig.show()\n"
   ]
  },
  {
   "cell_type": "code",
   "execution_count": 23,
   "metadata": {},
   "outputs": [
    {
     "data": {
      "application/vnd.plotly.v1+json": {
       "config": {
        "plotlyServerURL": "https://plot.ly"
       },
       "data": [
        {
         "type": "surface",
         "x": [
          [
           -2,
           -1.8620689655172413,
           -1.7241379310344827,
           -1.5862068965517242,
           -1.4482758620689655,
           -1.3103448275862069,
           -1.1724137931034484,
           -1.0344827586206897,
           -0.896551724137931,
           -0.7586206896551724,
           -0.6206896551724137,
           -0.48275862068965525,
           -0.3448275862068966,
           -0.2068965517241379,
           -0.06896551724137945,
           0.06896551724137945,
           0.2068965517241379,
           0.34482758620689635,
           0.48275862068965525,
           0.6206896551724137,
           0.7586206896551726,
           0.896551724137931,
           1.0344827586206895,
           1.1724137931034484,
           1.3103448275862069,
           1.4482758620689653,
           1.5862068965517242,
           1.7241379310344827,
           1.862068965517241,
           2
          ],
          [
           -2,
           -1.8620689655172413,
           -1.7241379310344827,
           -1.5862068965517242,
           -1.4482758620689655,
           -1.3103448275862069,
           -1.1724137931034484,
           -1.0344827586206897,
           -0.896551724137931,
           -0.7586206896551724,
           -0.6206896551724137,
           -0.48275862068965525,
           -0.3448275862068966,
           -0.2068965517241379,
           -0.06896551724137945,
           0.06896551724137945,
           0.2068965517241379,
           0.34482758620689635,
           0.48275862068965525,
           0.6206896551724137,
           0.7586206896551726,
           0.896551724137931,
           1.0344827586206895,
           1.1724137931034484,
           1.3103448275862069,
           1.4482758620689653,
           1.5862068965517242,
           1.7241379310344827,
           1.862068965517241,
           2
          ],
          [
           -2,
           -1.8620689655172413,
           -1.7241379310344827,
           -1.5862068965517242,
           -1.4482758620689655,
           -1.3103448275862069,
           -1.1724137931034484,
           -1.0344827586206897,
           -0.896551724137931,
           -0.7586206896551724,
           -0.6206896551724137,
           -0.48275862068965525,
           -0.3448275862068966,
           -0.2068965517241379,
           -0.06896551724137945,
           0.06896551724137945,
           0.2068965517241379,
           0.34482758620689635,
           0.48275862068965525,
           0.6206896551724137,
           0.7586206896551726,
           0.896551724137931,
           1.0344827586206895,
           1.1724137931034484,
           1.3103448275862069,
           1.4482758620689653,
           1.5862068965517242,
           1.7241379310344827,
           1.862068965517241,
           2
          ],
          [
           -2,
           -1.8620689655172413,
           -1.7241379310344827,
           -1.5862068965517242,
           -1.4482758620689655,
           -1.3103448275862069,
           -1.1724137931034484,
           -1.0344827586206897,
           -0.896551724137931,
           -0.7586206896551724,
           -0.6206896551724137,
           -0.48275862068965525,
           -0.3448275862068966,
           -0.2068965517241379,
           -0.06896551724137945,
           0.06896551724137945,
           0.2068965517241379,
           0.34482758620689635,
           0.48275862068965525,
           0.6206896551724137,
           0.7586206896551726,
           0.896551724137931,
           1.0344827586206895,
           1.1724137931034484,
           1.3103448275862069,
           1.4482758620689653,
           1.5862068965517242,
           1.7241379310344827,
           1.862068965517241,
           2
          ],
          [
           -2,
           -1.8620689655172413,
           -1.7241379310344827,
           -1.5862068965517242,
           -1.4482758620689655,
           -1.3103448275862069,
           -1.1724137931034484,
           -1.0344827586206897,
           -0.896551724137931,
           -0.7586206896551724,
           -0.6206896551724137,
           -0.48275862068965525,
           -0.3448275862068966,
           -0.2068965517241379,
           -0.06896551724137945,
           0.06896551724137945,
           0.2068965517241379,
           0.34482758620689635,
           0.48275862068965525,
           0.6206896551724137,
           0.7586206896551726,
           0.896551724137931,
           1.0344827586206895,
           1.1724137931034484,
           1.3103448275862069,
           1.4482758620689653,
           1.5862068965517242,
           1.7241379310344827,
           1.862068965517241,
           2
          ],
          [
           -2,
           -1.8620689655172413,
           -1.7241379310344827,
           -1.5862068965517242,
           -1.4482758620689655,
           -1.3103448275862069,
           -1.1724137931034484,
           -1.0344827586206897,
           -0.896551724137931,
           -0.7586206896551724,
           -0.6206896551724137,
           -0.48275862068965525,
           -0.3448275862068966,
           -0.2068965517241379,
           -0.06896551724137945,
           0.06896551724137945,
           0.2068965517241379,
           0.34482758620689635,
           0.48275862068965525,
           0.6206896551724137,
           0.7586206896551726,
           0.896551724137931,
           1.0344827586206895,
           1.1724137931034484,
           1.3103448275862069,
           1.4482758620689653,
           1.5862068965517242,
           1.7241379310344827,
           1.862068965517241,
           2
          ],
          [
           -2,
           -1.8620689655172413,
           -1.7241379310344827,
           -1.5862068965517242,
           -1.4482758620689655,
           -1.3103448275862069,
           -1.1724137931034484,
           -1.0344827586206897,
           -0.896551724137931,
           -0.7586206896551724,
           -0.6206896551724137,
           -0.48275862068965525,
           -0.3448275862068966,
           -0.2068965517241379,
           -0.06896551724137945,
           0.06896551724137945,
           0.2068965517241379,
           0.34482758620689635,
           0.48275862068965525,
           0.6206896551724137,
           0.7586206896551726,
           0.896551724137931,
           1.0344827586206895,
           1.1724137931034484,
           1.3103448275862069,
           1.4482758620689653,
           1.5862068965517242,
           1.7241379310344827,
           1.862068965517241,
           2
          ],
          [
           -2,
           -1.8620689655172413,
           -1.7241379310344827,
           -1.5862068965517242,
           -1.4482758620689655,
           -1.3103448275862069,
           -1.1724137931034484,
           -1.0344827586206897,
           -0.896551724137931,
           -0.7586206896551724,
           -0.6206896551724137,
           -0.48275862068965525,
           -0.3448275862068966,
           -0.2068965517241379,
           -0.06896551724137945,
           0.06896551724137945,
           0.2068965517241379,
           0.34482758620689635,
           0.48275862068965525,
           0.6206896551724137,
           0.7586206896551726,
           0.896551724137931,
           1.0344827586206895,
           1.1724137931034484,
           1.3103448275862069,
           1.4482758620689653,
           1.5862068965517242,
           1.7241379310344827,
           1.862068965517241,
           2
          ],
          [
           -2,
           -1.8620689655172413,
           -1.7241379310344827,
           -1.5862068965517242,
           -1.4482758620689655,
           -1.3103448275862069,
           -1.1724137931034484,
           -1.0344827586206897,
           -0.896551724137931,
           -0.7586206896551724,
           -0.6206896551724137,
           -0.48275862068965525,
           -0.3448275862068966,
           -0.2068965517241379,
           -0.06896551724137945,
           0.06896551724137945,
           0.2068965517241379,
           0.34482758620689635,
           0.48275862068965525,
           0.6206896551724137,
           0.7586206896551726,
           0.896551724137931,
           1.0344827586206895,
           1.1724137931034484,
           1.3103448275862069,
           1.4482758620689653,
           1.5862068965517242,
           1.7241379310344827,
           1.862068965517241,
           2
          ],
          [
           -2,
           -1.8620689655172413,
           -1.7241379310344827,
           -1.5862068965517242,
           -1.4482758620689655,
           -1.3103448275862069,
           -1.1724137931034484,
           -1.0344827586206897,
           -0.896551724137931,
           -0.7586206896551724,
           -0.6206896551724137,
           -0.48275862068965525,
           -0.3448275862068966,
           -0.2068965517241379,
           -0.06896551724137945,
           0.06896551724137945,
           0.2068965517241379,
           0.34482758620689635,
           0.48275862068965525,
           0.6206896551724137,
           0.7586206896551726,
           0.896551724137931,
           1.0344827586206895,
           1.1724137931034484,
           1.3103448275862069,
           1.4482758620689653,
           1.5862068965517242,
           1.7241379310344827,
           1.862068965517241,
           2
          ],
          [
           -2,
           -1.8620689655172413,
           -1.7241379310344827,
           -1.5862068965517242,
           -1.4482758620689655,
           -1.3103448275862069,
           -1.1724137931034484,
           -1.0344827586206897,
           -0.896551724137931,
           -0.7586206896551724,
           -0.6206896551724137,
           -0.48275862068965525,
           -0.3448275862068966,
           -0.2068965517241379,
           -0.06896551724137945,
           0.06896551724137945,
           0.2068965517241379,
           0.34482758620689635,
           0.48275862068965525,
           0.6206896551724137,
           0.7586206896551726,
           0.896551724137931,
           1.0344827586206895,
           1.1724137931034484,
           1.3103448275862069,
           1.4482758620689653,
           1.5862068965517242,
           1.7241379310344827,
           1.862068965517241,
           2
          ],
          [
           -2,
           -1.8620689655172413,
           -1.7241379310344827,
           -1.5862068965517242,
           -1.4482758620689655,
           -1.3103448275862069,
           -1.1724137931034484,
           -1.0344827586206897,
           -0.896551724137931,
           -0.7586206896551724,
           -0.6206896551724137,
           -0.48275862068965525,
           -0.3448275862068966,
           -0.2068965517241379,
           -0.06896551724137945,
           0.06896551724137945,
           0.2068965517241379,
           0.34482758620689635,
           0.48275862068965525,
           0.6206896551724137,
           0.7586206896551726,
           0.896551724137931,
           1.0344827586206895,
           1.1724137931034484,
           1.3103448275862069,
           1.4482758620689653,
           1.5862068965517242,
           1.7241379310344827,
           1.862068965517241,
           2
          ],
          [
           -2,
           -1.8620689655172413,
           -1.7241379310344827,
           -1.5862068965517242,
           -1.4482758620689655,
           -1.3103448275862069,
           -1.1724137931034484,
           -1.0344827586206897,
           -0.896551724137931,
           -0.7586206896551724,
           -0.6206896551724137,
           -0.48275862068965525,
           -0.3448275862068966,
           -0.2068965517241379,
           -0.06896551724137945,
           0.06896551724137945,
           0.2068965517241379,
           0.34482758620689635,
           0.48275862068965525,
           0.6206896551724137,
           0.7586206896551726,
           0.896551724137931,
           1.0344827586206895,
           1.1724137931034484,
           1.3103448275862069,
           1.4482758620689653,
           1.5862068965517242,
           1.7241379310344827,
           1.862068965517241,
           2
          ],
          [
           -2,
           -1.8620689655172413,
           -1.7241379310344827,
           -1.5862068965517242,
           -1.4482758620689655,
           -1.3103448275862069,
           -1.1724137931034484,
           -1.0344827586206897,
           -0.896551724137931,
           -0.7586206896551724,
           -0.6206896551724137,
           -0.48275862068965525,
           -0.3448275862068966,
           -0.2068965517241379,
           -0.06896551724137945,
           0.06896551724137945,
           0.2068965517241379,
           0.34482758620689635,
           0.48275862068965525,
           0.6206896551724137,
           0.7586206896551726,
           0.896551724137931,
           1.0344827586206895,
           1.1724137931034484,
           1.3103448275862069,
           1.4482758620689653,
           1.5862068965517242,
           1.7241379310344827,
           1.862068965517241,
           2
          ],
          [
           -2,
           -1.8620689655172413,
           -1.7241379310344827,
           -1.5862068965517242,
           -1.4482758620689655,
           -1.3103448275862069,
           -1.1724137931034484,
           -1.0344827586206897,
           -0.896551724137931,
           -0.7586206896551724,
           -0.6206896551724137,
           -0.48275862068965525,
           -0.3448275862068966,
           -0.2068965517241379,
           -0.06896551724137945,
           0.06896551724137945,
           0.2068965517241379,
           0.34482758620689635,
           0.48275862068965525,
           0.6206896551724137,
           0.7586206896551726,
           0.896551724137931,
           1.0344827586206895,
           1.1724137931034484,
           1.3103448275862069,
           1.4482758620689653,
           1.5862068965517242,
           1.7241379310344827,
           1.862068965517241,
           2
          ],
          [
           -2,
           -1.8620689655172413,
           -1.7241379310344827,
           -1.5862068965517242,
           -1.4482758620689655,
           -1.3103448275862069,
           -1.1724137931034484,
           -1.0344827586206897,
           -0.896551724137931,
           -0.7586206896551724,
           -0.6206896551724137,
           -0.48275862068965525,
           -0.3448275862068966,
           -0.2068965517241379,
           -0.06896551724137945,
           0.06896551724137945,
           0.2068965517241379,
           0.34482758620689635,
           0.48275862068965525,
           0.6206896551724137,
           0.7586206896551726,
           0.896551724137931,
           1.0344827586206895,
           1.1724137931034484,
           1.3103448275862069,
           1.4482758620689653,
           1.5862068965517242,
           1.7241379310344827,
           1.862068965517241,
           2
          ],
          [
           -2,
           -1.8620689655172413,
           -1.7241379310344827,
           -1.5862068965517242,
           -1.4482758620689655,
           -1.3103448275862069,
           -1.1724137931034484,
           -1.0344827586206897,
           -0.896551724137931,
           -0.7586206896551724,
           -0.6206896551724137,
           -0.48275862068965525,
           -0.3448275862068966,
           -0.2068965517241379,
           -0.06896551724137945,
           0.06896551724137945,
           0.2068965517241379,
           0.34482758620689635,
           0.48275862068965525,
           0.6206896551724137,
           0.7586206896551726,
           0.896551724137931,
           1.0344827586206895,
           1.1724137931034484,
           1.3103448275862069,
           1.4482758620689653,
           1.5862068965517242,
           1.7241379310344827,
           1.862068965517241,
           2
          ],
          [
           -2,
           -1.8620689655172413,
           -1.7241379310344827,
           -1.5862068965517242,
           -1.4482758620689655,
           -1.3103448275862069,
           -1.1724137931034484,
           -1.0344827586206897,
           -0.896551724137931,
           -0.7586206896551724,
           -0.6206896551724137,
           -0.48275862068965525,
           -0.3448275862068966,
           -0.2068965517241379,
           -0.06896551724137945,
           0.06896551724137945,
           0.2068965517241379,
           0.34482758620689635,
           0.48275862068965525,
           0.6206896551724137,
           0.7586206896551726,
           0.896551724137931,
           1.0344827586206895,
           1.1724137931034484,
           1.3103448275862069,
           1.4482758620689653,
           1.5862068965517242,
           1.7241379310344827,
           1.862068965517241,
           2
          ],
          [
           -2,
           -1.8620689655172413,
           -1.7241379310344827,
           -1.5862068965517242,
           -1.4482758620689655,
           -1.3103448275862069,
           -1.1724137931034484,
           -1.0344827586206897,
           -0.896551724137931,
           -0.7586206896551724,
           -0.6206896551724137,
           -0.48275862068965525,
           -0.3448275862068966,
           -0.2068965517241379,
           -0.06896551724137945,
           0.06896551724137945,
           0.2068965517241379,
           0.34482758620689635,
           0.48275862068965525,
           0.6206896551724137,
           0.7586206896551726,
           0.896551724137931,
           1.0344827586206895,
           1.1724137931034484,
           1.3103448275862069,
           1.4482758620689653,
           1.5862068965517242,
           1.7241379310344827,
           1.862068965517241,
           2
          ],
          [
           -2,
           -1.8620689655172413,
           -1.7241379310344827,
           -1.5862068965517242,
           -1.4482758620689655,
           -1.3103448275862069,
           -1.1724137931034484,
           -1.0344827586206897,
           -0.896551724137931,
           -0.7586206896551724,
           -0.6206896551724137,
           -0.48275862068965525,
           -0.3448275862068966,
           -0.2068965517241379,
           -0.06896551724137945,
           0.06896551724137945,
           0.2068965517241379,
           0.34482758620689635,
           0.48275862068965525,
           0.6206896551724137,
           0.7586206896551726,
           0.896551724137931,
           1.0344827586206895,
           1.1724137931034484,
           1.3103448275862069,
           1.4482758620689653,
           1.5862068965517242,
           1.7241379310344827,
           1.862068965517241,
           2
          ],
          [
           -2,
           -1.8620689655172413,
           -1.7241379310344827,
           -1.5862068965517242,
           -1.4482758620689655,
           -1.3103448275862069,
           -1.1724137931034484,
           -1.0344827586206897,
           -0.896551724137931,
           -0.7586206896551724,
           -0.6206896551724137,
           -0.48275862068965525,
           -0.3448275862068966,
           -0.2068965517241379,
           -0.06896551724137945,
           0.06896551724137945,
           0.2068965517241379,
           0.34482758620689635,
           0.48275862068965525,
           0.6206896551724137,
           0.7586206896551726,
           0.896551724137931,
           1.0344827586206895,
           1.1724137931034484,
           1.3103448275862069,
           1.4482758620689653,
           1.5862068965517242,
           1.7241379310344827,
           1.862068965517241,
           2
          ],
          [
           -2,
           -1.8620689655172413,
           -1.7241379310344827,
           -1.5862068965517242,
           -1.4482758620689655,
           -1.3103448275862069,
           -1.1724137931034484,
           -1.0344827586206897,
           -0.896551724137931,
           -0.7586206896551724,
           -0.6206896551724137,
           -0.48275862068965525,
           -0.3448275862068966,
           -0.2068965517241379,
           -0.06896551724137945,
           0.06896551724137945,
           0.2068965517241379,
           0.34482758620689635,
           0.48275862068965525,
           0.6206896551724137,
           0.7586206896551726,
           0.896551724137931,
           1.0344827586206895,
           1.1724137931034484,
           1.3103448275862069,
           1.4482758620689653,
           1.5862068965517242,
           1.7241379310344827,
           1.862068965517241,
           2
          ],
          [
           -2,
           -1.8620689655172413,
           -1.7241379310344827,
           -1.5862068965517242,
           -1.4482758620689655,
           -1.3103448275862069,
           -1.1724137931034484,
           -1.0344827586206897,
           -0.896551724137931,
           -0.7586206896551724,
           -0.6206896551724137,
           -0.48275862068965525,
           -0.3448275862068966,
           -0.2068965517241379,
           -0.06896551724137945,
           0.06896551724137945,
           0.2068965517241379,
           0.34482758620689635,
           0.48275862068965525,
           0.6206896551724137,
           0.7586206896551726,
           0.896551724137931,
           1.0344827586206895,
           1.1724137931034484,
           1.3103448275862069,
           1.4482758620689653,
           1.5862068965517242,
           1.7241379310344827,
           1.862068965517241,
           2
          ],
          [
           -2,
           -1.8620689655172413,
           -1.7241379310344827,
           -1.5862068965517242,
           -1.4482758620689655,
           -1.3103448275862069,
           -1.1724137931034484,
           -1.0344827586206897,
           -0.896551724137931,
           -0.7586206896551724,
           -0.6206896551724137,
           -0.48275862068965525,
           -0.3448275862068966,
           -0.2068965517241379,
           -0.06896551724137945,
           0.06896551724137945,
           0.2068965517241379,
           0.34482758620689635,
           0.48275862068965525,
           0.6206896551724137,
           0.7586206896551726,
           0.896551724137931,
           1.0344827586206895,
           1.1724137931034484,
           1.3103448275862069,
           1.4482758620689653,
           1.5862068965517242,
           1.7241379310344827,
           1.862068965517241,
           2
          ],
          [
           -2,
           -1.8620689655172413,
           -1.7241379310344827,
           -1.5862068965517242,
           -1.4482758620689655,
           -1.3103448275862069,
           -1.1724137931034484,
           -1.0344827586206897,
           -0.896551724137931,
           -0.7586206896551724,
           -0.6206896551724137,
           -0.48275862068965525,
           -0.3448275862068966,
           -0.2068965517241379,
           -0.06896551724137945,
           0.06896551724137945,
           0.2068965517241379,
           0.34482758620689635,
           0.48275862068965525,
           0.6206896551724137,
           0.7586206896551726,
           0.896551724137931,
           1.0344827586206895,
           1.1724137931034484,
           1.3103448275862069,
           1.4482758620689653,
           1.5862068965517242,
           1.7241379310344827,
           1.862068965517241,
           2
          ],
          [
           -2,
           -1.8620689655172413,
           -1.7241379310344827,
           -1.5862068965517242,
           -1.4482758620689655,
           -1.3103448275862069,
           -1.1724137931034484,
           -1.0344827586206897,
           -0.896551724137931,
           -0.7586206896551724,
           -0.6206896551724137,
           -0.48275862068965525,
           -0.3448275862068966,
           -0.2068965517241379,
           -0.06896551724137945,
           0.06896551724137945,
           0.2068965517241379,
           0.34482758620689635,
           0.48275862068965525,
           0.6206896551724137,
           0.7586206896551726,
           0.896551724137931,
           1.0344827586206895,
           1.1724137931034484,
           1.3103448275862069,
           1.4482758620689653,
           1.5862068965517242,
           1.7241379310344827,
           1.862068965517241,
           2
          ],
          [
           -2,
           -1.8620689655172413,
           -1.7241379310344827,
           -1.5862068965517242,
           -1.4482758620689655,
           -1.3103448275862069,
           -1.1724137931034484,
           -1.0344827586206897,
           -0.896551724137931,
           -0.7586206896551724,
           -0.6206896551724137,
           -0.48275862068965525,
           -0.3448275862068966,
           -0.2068965517241379,
           -0.06896551724137945,
           0.06896551724137945,
           0.2068965517241379,
           0.34482758620689635,
           0.48275862068965525,
           0.6206896551724137,
           0.7586206896551726,
           0.896551724137931,
           1.0344827586206895,
           1.1724137931034484,
           1.3103448275862069,
           1.4482758620689653,
           1.5862068965517242,
           1.7241379310344827,
           1.862068965517241,
           2
          ],
          [
           -2,
           -1.8620689655172413,
           -1.7241379310344827,
           -1.5862068965517242,
           -1.4482758620689655,
           -1.3103448275862069,
           -1.1724137931034484,
           -1.0344827586206897,
           -0.896551724137931,
           -0.7586206896551724,
           -0.6206896551724137,
           -0.48275862068965525,
           -0.3448275862068966,
           -0.2068965517241379,
           -0.06896551724137945,
           0.06896551724137945,
           0.2068965517241379,
           0.34482758620689635,
           0.48275862068965525,
           0.6206896551724137,
           0.7586206896551726,
           0.896551724137931,
           1.0344827586206895,
           1.1724137931034484,
           1.3103448275862069,
           1.4482758620689653,
           1.5862068965517242,
           1.7241379310344827,
           1.862068965517241,
           2
          ],
          [
           -2,
           -1.8620689655172413,
           -1.7241379310344827,
           -1.5862068965517242,
           -1.4482758620689655,
           -1.3103448275862069,
           -1.1724137931034484,
           -1.0344827586206897,
           -0.896551724137931,
           -0.7586206896551724,
           -0.6206896551724137,
           -0.48275862068965525,
           -0.3448275862068966,
           -0.2068965517241379,
           -0.06896551724137945,
           0.06896551724137945,
           0.2068965517241379,
           0.34482758620689635,
           0.48275862068965525,
           0.6206896551724137,
           0.7586206896551726,
           0.896551724137931,
           1.0344827586206895,
           1.1724137931034484,
           1.3103448275862069,
           1.4482758620689653,
           1.5862068965517242,
           1.7241379310344827,
           1.862068965517241,
           2
          ],
          [
           -2,
           -1.8620689655172413,
           -1.7241379310344827,
           -1.5862068965517242,
           -1.4482758620689655,
           -1.3103448275862069,
           -1.1724137931034484,
           -1.0344827586206897,
           -0.896551724137931,
           -0.7586206896551724,
           -0.6206896551724137,
           -0.48275862068965525,
           -0.3448275862068966,
           -0.2068965517241379,
           -0.06896551724137945,
           0.06896551724137945,
           0.2068965517241379,
           0.34482758620689635,
           0.48275862068965525,
           0.6206896551724137,
           0.7586206896551726,
           0.896551724137931,
           1.0344827586206895,
           1.1724137931034484,
           1.3103448275862069,
           1.4482758620689653,
           1.5862068965517242,
           1.7241379310344827,
           1.862068965517241,
           2
          ]
         ],
         "y": [
          [
           -2,
           -2,
           -2,
           -2,
           -2,
           -2,
           -2,
           -2,
           -2,
           -2,
           -2,
           -2,
           -2,
           -2,
           -2,
           -2,
           -2,
           -2,
           -2,
           -2,
           -2,
           -2,
           -2,
           -2,
           -2,
           -2,
           -2,
           -2,
           -2,
           -2
          ],
          [
           -1.8620689655172413,
           -1.8620689655172413,
           -1.8620689655172413,
           -1.8620689655172413,
           -1.8620689655172413,
           -1.8620689655172413,
           -1.8620689655172413,
           -1.8620689655172413,
           -1.8620689655172413,
           -1.8620689655172413,
           -1.8620689655172413,
           -1.8620689655172413,
           -1.8620689655172413,
           -1.8620689655172413,
           -1.8620689655172413,
           -1.8620689655172413,
           -1.8620689655172413,
           -1.8620689655172413,
           -1.8620689655172413,
           -1.8620689655172413,
           -1.8620689655172413,
           -1.8620689655172413,
           -1.8620689655172413,
           -1.8620689655172413,
           -1.8620689655172413,
           -1.8620689655172413,
           -1.8620689655172413,
           -1.8620689655172413,
           -1.8620689655172413,
           -1.8620689655172413
          ],
          [
           -1.7241379310344827,
           -1.7241379310344827,
           -1.7241379310344827,
           -1.7241379310344827,
           -1.7241379310344827,
           -1.7241379310344827,
           -1.7241379310344827,
           -1.7241379310344827,
           -1.7241379310344827,
           -1.7241379310344827,
           -1.7241379310344827,
           -1.7241379310344827,
           -1.7241379310344827,
           -1.7241379310344827,
           -1.7241379310344827,
           -1.7241379310344827,
           -1.7241379310344827,
           -1.7241379310344827,
           -1.7241379310344827,
           -1.7241379310344827,
           -1.7241379310344827,
           -1.7241379310344827,
           -1.7241379310344827,
           -1.7241379310344827,
           -1.7241379310344827,
           -1.7241379310344827,
           -1.7241379310344827,
           -1.7241379310344827,
           -1.7241379310344827,
           -1.7241379310344827
          ],
          [
           -1.5862068965517242,
           -1.5862068965517242,
           -1.5862068965517242,
           -1.5862068965517242,
           -1.5862068965517242,
           -1.5862068965517242,
           -1.5862068965517242,
           -1.5862068965517242,
           -1.5862068965517242,
           -1.5862068965517242,
           -1.5862068965517242,
           -1.5862068965517242,
           -1.5862068965517242,
           -1.5862068965517242,
           -1.5862068965517242,
           -1.5862068965517242,
           -1.5862068965517242,
           -1.5862068965517242,
           -1.5862068965517242,
           -1.5862068965517242,
           -1.5862068965517242,
           -1.5862068965517242,
           -1.5862068965517242,
           -1.5862068965517242,
           -1.5862068965517242,
           -1.5862068965517242,
           -1.5862068965517242,
           -1.5862068965517242,
           -1.5862068965517242,
           -1.5862068965517242
          ],
          [
           -1.4482758620689655,
           -1.4482758620689655,
           -1.4482758620689655,
           -1.4482758620689655,
           -1.4482758620689655,
           -1.4482758620689655,
           -1.4482758620689655,
           -1.4482758620689655,
           -1.4482758620689655,
           -1.4482758620689655,
           -1.4482758620689655,
           -1.4482758620689655,
           -1.4482758620689655,
           -1.4482758620689655,
           -1.4482758620689655,
           -1.4482758620689655,
           -1.4482758620689655,
           -1.4482758620689655,
           -1.4482758620689655,
           -1.4482758620689655,
           -1.4482758620689655,
           -1.4482758620689655,
           -1.4482758620689655,
           -1.4482758620689655,
           -1.4482758620689655,
           -1.4482758620689655,
           -1.4482758620689655,
           -1.4482758620689655,
           -1.4482758620689655,
           -1.4482758620689655
          ],
          [
           -1.3103448275862069,
           -1.3103448275862069,
           -1.3103448275862069,
           -1.3103448275862069,
           -1.3103448275862069,
           -1.3103448275862069,
           -1.3103448275862069,
           -1.3103448275862069,
           -1.3103448275862069,
           -1.3103448275862069,
           -1.3103448275862069,
           -1.3103448275862069,
           -1.3103448275862069,
           -1.3103448275862069,
           -1.3103448275862069,
           -1.3103448275862069,
           -1.3103448275862069,
           -1.3103448275862069,
           -1.3103448275862069,
           -1.3103448275862069,
           -1.3103448275862069,
           -1.3103448275862069,
           -1.3103448275862069,
           -1.3103448275862069,
           -1.3103448275862069,
           -1.3103448275862069,
           -1.3103448275862069,
           -1.3103448275862069,
           -1.3103448275862069,
           -1.3103448275862069
          ],
          [
           -1.1724137931034484,
           -1.1724137931034484,
           -1.1724137931034484,
           -1.1724137931034484,
           -1.1724137931034484,
           -1.1724137931034484,
           -1.1724137931034484,
           -1.1724137931034484,
           -1.1724137931034484,
           -1.1724137931034484,
           -1.1724137931034484,
           -1.1724137931034484,
           -1.1724137931034484,
           -1.1724137931034484,
           -1.1724137931034484,
           -1.1724137931034484,
           -1.1724137931034484,
           -1.1724137931034484,
           -1.1724137931034484,
           -1.1724137931034484,
           -1.1724137931034484,
           -1.1724137931034484,
           -1.1724137931034484,
           -1.1724137931034484,
           -1.1724137931034484,
           -1.1724137931034484,
           -1.1724137931034484,
           -1.1724137931034484,
           -1.1724137931034484,
           -1.1724137931034484
          ],
          [
           -1.0344827586206897,
           -1.0344827586206897,
           -1.0344827586206897,
           -1.0344827586206897,
           -1.0344827586206897,
           -1.0344827586206897,
           -1.0344827586206897,
           -1.0344827586206897,
           -1.0344827586206897,
           -1.0344827586206897,
           -1.0344827586206897,
           -1.0344827586206897,
           -1.0344827586206897,
           -1.0344827586206897,
           -1.0344827586206897,
           -1.0344827586206897,
           -1.0344827586206897,
           -1.0344827586206897,
           -1.0344827586206897,
           -1.0344827586206897,
           -1.0344827586206897,
           -1.0344827586206897,
           -1.0344827586206897,
           -1.0344827586206897,
           -1.0344827586206897,
           -1.0344827586206897,
           -1.0344827586206897,
           -1.0344827586206897,
           -1.0344827586206897,
           -1.0344827586206897
          ],
          [
           -0.896551724137931,
           -0.896551724137931,
           -0.896551724137931,
           -0.896551724137931,
           -0.896551724137931,
           -0.896551724137931,
           -0.896551724137931,
           -0.896551724137931,
           -0.896551724137931,
           -0.896551724137931,
           -0.896551724137931,
           -0.896551724137931,
           -0.896551724137931,
           -0.896551724137931,
           -0.896551724137931,
           -0.896551724137931,
           -0.896551724137931,
           -0.896551724137931,
           -0.896551724137931,
           -0.896551724137931,
           -0.896551724137931,
           -0.896551724137931,
           -0.896551724137931,
           -0.896551724137931,
           -0.896551724137931,
           -0.896551724137931,
           -0.896551724137931,
           -0.896551724137931,
           -0.896551724137931,
           -0.896551724137931
          ],
          [
           -0.7586206896551724,
           -0.7586206896551724,
           -0.7586206896551724,
           -0.7586206896551724,
           -0.7586206896551724,
           -0.7586206896551724,
           -0.7586206896551724,
           -0.7586206896551724,
           -0.7586206896551724,
           -0.7586206896551724,
           -0.7586206896551724,
           -0.7586206896551724,
           -0.7586206896551724,
           -0.7586206896551724,
           -0.7586206896551724,
           -0.7586206896551724,
           -0.7586206896551724,
           -0.7586206896551724,
           -0.7586206896551724,
           -0.7586206896551724,
           -0.7586206896551724,
           -0.7586206896551724,
           -0.7586206896551724,
           -0.7586206896551724,
           -0.7586206896551724,
           -0.7586206896551724,
           -0.7586206896551724,
           -0.7586206896551724,
           -0.7586206896551724,
           -0.7586206896551724
          ],
          [
           -0.6206896551724137,
           -0.6206896551724137,
           -0.6206896551724137,
           -0.6206896551724137,
           -0.6206896551724137,
           -0.6206896551724137,
           -0.6206896551724137,
           -0.6206896551724137,
           -0.6206896551724137,
           -0.6206896551724137,
           -0.6206896551724137,
           -0.6206896551724137,
           -0.6206896551724137,
           -0.6206896551724137,
           -0.6206896551724137,
           -0.6206896551724137,
           -0.6206896551724137,
           -0.6206896551724137,
           -0.6206896551724137,
           -0.6206896551724137,
           -0.6206896551724137,
           -0.6206896551724137,
           -0.6206896551724137,
           -0.6206896551724137,
           -0.6206896551724137,
           -0.6206896551724137,
           -0.6206896551724137,
           -0.6206896551724137,
           -0.6206896551724137,
           -0.6206896551724137
          ],
          [
           -0.48275862068965525,
           -0.48275862068965525,
           -0.48275862068965525,
           -0.48275862068965525,
           -0.48275862068965525,
           -0.48275862068965525,
           -0.48275862068965525,
           -0.48275862068965525,
           -0.48275862068965525,
           -0.48275862068965525,
           -0.48275862068965525,
           -0.48275862068965525,
           -0.48275862068965525,
           -0.48275862068965525,
           -0.48275862068965525,
           -0.48275862068965525,
           -0.48275862068965525,
           -0.48275862068965525,
           -0.48275862068965525,
           -0.48275862068965525,
           -0.48275862068965525,
           -0.48275862068965525,
           -0.48275862068965525,
           -0.48275862068965525,
           -0.48275862068965525,
           -0.48275862068965525,
           -0.48275862068965525,
           -0.48275862068965525,
           -0.48275862068965525,
           -0.48275862068965525
          ],
          [
           -0.3448275862068966,
           -0.3448275862068966,
           -0.3448275862068966,
           -0.3448275862068966,
           -0.3448275862068966,
           -0.3448275862068966,
           -0.3448275862068966,
           -0.3448275862068966,
           -0.3448275862068966,
           -0.3448275862068966,
           -0.3448275862068966,
           -0.3448275862068966,
           -0.3448275862068966,
           -0.3448275862068966,
           -0.3448275862068966,
           -0.3448275862068966,
           -0.3448275862068966,
           -0.3448275862068966,
           -0.3448275862068966,
           -0.3448275862068966,
           -0.3448275862068966,
           -0.3448275862068966,
           -0.3448275862068966,
           -0.3448275862068966,
           -0.3448275862068966,
           -0.3448275862068966,
           -0.3448275862068966,
           -0.3448275862068966,
           -0.3448275862068966,
           -0.3448275862068966
          ],
          [
           -0.2068965517241379,
           -0.2068965517241379,
           -0.2068965517241379,
           -0.2068965517241379,
           -0.2068965517241379,
           -0.2068965517241379,
           -0.2068965517241379,
           -0.2068965517241379,
           -0.2068965517241379,
           -0.2068965517241379,
           -0.2068965517241379,
           -0.2068965517241379,
           -0.2068965517241379,
           -0.2068965517241379,
           -0.2068965517241379,
           -0.2068965517241379,
           -0.2068965517241379,
           -0.2068965517241379,
           -0.2068965517241379,
           -0.2068965517241379,
           -0.2068965517241379,
           -0.2068965517241379,
           -0.2068965517241379,
           -0.2068965517241379,
           -0.2068965517241379,
           -0.2068965517241379,
           -0.2068965517241379,
           -0.2068965517241379,
           -0.2068965517241379,
           -0.2068965517241379
          ],
          [
           -0.06896551724137945,
           -0.06896551724137945,
           -0.06896551724137945,
           -0.06896551724137945,
           -0.06896551724137945,
           -0.06896551724137945,
           -0.06896551724137945,
           -0.06896551724137945,
           -0.06896551724137945,
           -0.06896551724137945,
           -0.06896551724137945,
           -0.06896551724137945,
           -0.06896551724137945,
           -0.06896551724137945,
           -0.06896551724137945,
           -0.06896551724137945,
           -0.06896551724137945,
           -0.06896551724137945,
           -0.06896551724137945,
           -0.06896551724137945,
           -0.06896551724137945,
           -0.06896551724137945,
           -0.06896551724137945,
           -0.06896551724137945,
           -0.06896551724137945,
           -0.06896551724137945,
           -0.06896551724137945,
           -0.06896551724137945,
           -0.06896551724137945,
           -0.06896551724137945
          ],
          [
           0.06896551724137945,
           0.06896551724137945,
           0.06896551724137945,
           0.06896551724137945,
           0.06896551724137945,
           0.06896551724137945,
           0.06896551724137945,
           0.06896551724137945,
           0.06896551724137945,
           0.06896551724137945,
           0.06896551724137945,
           0.06896551724137945,
           0.06896551724137945,
           0.06896551724137945,
           0.06896551724137945,
           0.06896551724137945,
           0.06896551724137945,
           0.06896551724137945,
           0.06896551724137945,
           0.06896551724137945,
           0.06896551724137945,
           0.06896551724137945,
           0.06896551724137945,
           0.06896551724137945,
           0.06896551724137945,
           0.06896551724137945,
           0.06896551724137945,
           0.06896551724137945,
           0.06896551724137945,
           0.06896551724137945
          ],
          [
           0.2068965517241379,
           0.2068965517241379,
           0.2068965517241379,
           0.2068965517241379,
           0.2068965517241379,
           0.2068965517241379,
           0.2068965517241379,
           0.2068965517241379,
           0.2068965517241379,
           0.2068965517241379,
           0.2068965517241379,
           0.2068965517241379,
           0.2068965517241379,
           0.2068965517241379,
           0.2068965517241379,
           0.2068965517241379,
           0.2068965517241379,
           0.2068965517241379,
           0.2068965517241379,
           0.2068965517241379,
           0.2068965517241379,
           0.2068965517241379,
           0.2068965517241379,
           0.2068965517241379,
           0.2068965517241379,
           0.2068965517241379,
           0.2068965517241379,
           0.2068965517241379,
           0.2068965517241379,
           0.2068965517241379
          ],
          [
           0.34482758620689635,
           0.34482758620689635,
           0.34482758620689635,
           0.34482758620689635,
           0.34482758620689635,
           0.34482758620689635,
           0.34482758620689635,
           0.34482758620689635,
           0.34482758620689635,
           0.34482758620689635,
           0.34482758620689635,
           0.34482758620689635,
           0.34482758620689635,
           0.34482758620689635,
           0.34482758620689635,
           0.34482758620689635,
           0.34482758620689635,
           0.34482758620689635,
           0.34482758620689635,
           0.34482758620689635,
           0.34482758620689635,
           0.34482758620689635,
           0.34482758620689635,
           0.34482758620689635,
           0.34482758620689635,
           0.34482758620689635,
           0.34482758620689635,
           0.34482758620689635,
           0.34482758620689635,
           0.34482758620689635
          ],
          [
           0.48275862068965525,
           0.48275862068965525,
           0.48275862068965525,
           0.48275862068965525,
           0.48275862068965525,
           0.48275862068965525,
           0.48275862068965525,
           0.48275862068965525,
           0.48275862068965525,
           0.48275862068965525,
           0.48275862068965525,
           0.48275862068965525,
           0.48275862068965525,
           0.48275862068965525,
           0.48275862068965525,
           0.48275862068965525,
           0.48275862068965525,
           0.48275862068965525,
           0.48275862068965525,
           0.48275862068965525,
           0.48275862068965525,
           0.48275862068965525,
           0.48275862068965525,
           0.48275862068965525,
           0.48275862068965525,
           0.48275862068965525,
           0.48275862068965525,
           0.48275862068965525,
           0.48275862068965525,
           0.48275862068965525
          ],
          [
           0.6206896551724137,
           0.6206896551724137,
           0.6206896551724137,
           0.6206896551724137,
           0.6206896551724137,
           0.6206896551724137,
           0.6206896551724137,
           0.6206896551724137,
           0.6206896551724137,
           0.6206896551724137,
           0.6206896551724137,
           0.6206896551724137,
           0.6206896551724137,
           0.6206896551724137,
           0.6206896551724137,
           0.6206896551724137,
           0.6206896551724137,
           0.6206896551724137,
           0.6206896551724137,
           0.6206896551724137,
           0.6206896551724137,
           0.6206896551724137,
           0.6206896551724137,
           0.6206896551724137,
           0.6206896551724137,
           0.6206896551724137,
           0.6206896551724137,
           0.6206896551724137,
           0.6206896551724137,
           0.6206896551724137
          ],
          [
           0.7586206896551726,
           0.7586206896551726,
           0.7586206896551726,
           0.7586206896551726,
           0.7586206896551726,
           0.7586206896551726,
           0.7586206896551726,
           0.7586206896551726,
           0.7586206896551726,
           0.7586206896551726,
           0.7586206896551726,
           0.7586206896551726,
           0.7586206896551726,
           0.7586206896551726,
           0.7586206896551726,
           0.7586206896551726,
           0.7586206896551726,
           0.7586206896551726,
           0.7586206896551726,
           0.7586206896551726,
           0.7586206896551726,
           0.7586206896551726,
           0.7586206896551726,
           0.7586206896551726,
           0.7586206896551726,
           0.7586206896551726,
           0.7586206896551726,
           0.7586206896551726,
           0.7586206896551726,
           0.7586206896551726
          ],
          [
           0.896551724137931,
           0.896551724137931,
           0.896551724137931,
           0.896551724137931,
           0.896551724137931,
           0.896551724137931,
           0.896551724137931,
           0.896551724137931,
           0.896551724137931,
           0.896551724137931,
           0.896551724137931,
           0.896551724137931,
           0.896551724137931,
           0.896551724137931,
           0.896551724137931,
           0.896551724137931,
           0.896551724137931,
           0.896551724137931,
           0.896551724137931,
           0.896551724137931,
           0.896551724137931,
           0.896551724137931,
           0.896551724137931,
           0.896551724137931,
           0.896551724137931,
           0.896551724137931,
           0.896551724137931,
           0.896551724137931,
           0.896551724137931,
           0.896551724137931
          ],
          [
           1.0344827586206895,
           1.0344827586206895,
           1.0344827586206895,
           1.0344827586206895,
           1.0344827586206895,
           1.0344827586206895,
           1.0344827586206895,
           1.0344827586206895,
           1.0344827586206895,
           1.0344827586206895,
           1.0344827586206895,
           1.0344827586206895,
           1.0344827586206895,
           1.0344827586206895,
           1.0344827586206895,
           1.0344827586206895,
           1.0344827586206895,
           1.0344827586206895,
           1.0344827586206895,
           1.0344827586206895,
           1.0344827586206895,
           1.0344827586206895,
           1.0344827586206895,
           1.0344827586206895,
           1.0344827586206895,
           1.0344827586206895,
           1.0344827586206895,
           1.0344827586206895,
           1.0344827586206895,
           1.0344827586206895
          ],
          [
           1.1724137931034484,
           1.1724137931034484,
           1.1724137931034484,
           1.1724137931034484,
           1.1724137931034484,
           1.1724137931034484,
           1.1724137931034484,
           1.1724137931034484,
           1.1724137931034484,
           1.1724137931034484,
           1.1724137931034484,
           1.1724137931034484,
           1.1724137931034484,
           1.1724137931034484,
           1.1724137931034484,
           1.1724137931034484,
           1.1724137931034484,
           1.1724137931034484,
           1.1724137931034484,
           1.1724137931034484,
           1.1724137931034484,
           1.1724137931034484,
           1.1724137931034484,
           1.1724137931034484,
           1.1724137931034484,
           1.1724137931034484,
           1.1724137931034484,
           1.1724137931034484,
           1.1724137931034484,
           1.1724137931034484
          ],
          [
           1.3103448275862069,
           1.3103448275862069,
           1.3103448275862069,
           1.3103448275862069,
           1.3103448275862069,
           1.3103448275862069,
           1.3103448275862069,
           1.3103448275862069,
           1.3103448275862069,
           1.3103448275862069,
           1.3103448275862069,
           1.3103448275862069,
           1.3103448275862069,
           1.3103448275862069,
           1.3103448275862069,
           1.3103448275862069,
           1.3103448275862069,
           1.3103448275862069,
           1.3103448275862069,
           1.3103448275862069,
           1.3103448275862069,
           1.3103448275862069,
           1.3103448275862069,
           1.3103448275862069,
           1.3103448275862069,
           1.3103448275862069,
           1.3103448275862069,
           1.3103448275862069,
           1.3103448275862069,
           1.3103448275862069
          ],
          [
           1.4482758620689653,
           1.4482758620689653,
           1.4482758620689653,
           1.4482758620689653,
           1.4482758620689653,
           1.4482758620689653,
           1.4482758620689653,
           1.4482758620689653,
           1.4482758620689653,
           1.4482758620689653,
           1.4482758620689653,
           1.4482758620689653,
           1.4482758620689653,
           1.4482758620689653,
           1.4482758620689653,
           1.4482758620689653,
           1.4482758620689653,
           1.4482758620689653,
           1.4482758620689653,
           1.4482758620689653,
           1.4482758620689653,
           1.4482758620689653,
           1.4482758620689653,
           1.4482758620689653,
           1.4482758620689653,
           1.4482758620689653,
           1.4482758620689653,
           1.4482758620689653,
           1.4482758620689653,
           1.4482758620689653
          ],
          [
           1.5862068965517242,
           1.5862068965517242,
           1.5862068965517242,
           1.5862068965517242,
           1.5862068965517242,
           1.5862068965517242,
           1.5862068965517242,
           1.5862068965517242,
           1.5862068965517242,
           1.5862068965517242,
           1.5862068965517242,
           1.5862068965517242,
           1.5862068965517242,
           1.5862068965517242,
           1.5862068965517242,
           1.5862068965517242,
           1.5862068965517242,
           1.5862068965517242,
           1.5862068965517242,
           1.5862068965517242,
           1.5862068965517242,
           1.5862068965517242,
           1.5862068965517242,
           1.5862068965517242,
           1.5862068965517242,
           1.5862068965517242,
           1.5862068965517242,
           1.5862068965517242,
           1.5862068965517242,
           1.5862068965517242
          ],
          [
           1.7241379310344827,
           1.7241379310344827,
           1.7241379310344827,
           1.7241379310344827,
           1.7241379310344827,
           1.7241379310344827,
           1.7241379310344827,
           1.7241379310344827,
           1.7241379310344827,
           1.7241379310344827,
           1.7241379310344827,
           1.7241379310344827,
           1.7241379310344827,
           1.7241379310344827,
           1.7241379310344827,
           1.7241379310344827,
           1.7241379310344827,
           1.7241379310344827,
           1.7241379310344827,
           1.7241379310344827,
           1.7241379310344827,
           1.7241379310344827,
           1.7241379310344827,
           1.7241379310344827,
           1.7241379310344827,
           1.7241379310344827,
           1.7241379310344827,
           1.7241379310344827,
           1.7241379310344827,
           1.7241379310344827
          ],
          [
           1.862068965517241,
           1.862068965517241,
           1.862068965517241,
           1.862068965517241,
           1.862068965517241,
           1.862068965517241,
           1.862068965517241,
           1.862068965517241,
           1.862068965517241,
           1.862068965517241,
           1.862068965517241,
           1.862068965517241,
           1.862068965517241,
           1.862068965517241,
           1.862068965517241,
           1.862068965517241,
           1.862068965517241,
           1.862068965517241,
           1.862068965517241,
           1.862068965517241,
           1.862068965517241,
           1.862068965517241,
           1.862068965517241,
           1.862068965517241,
           1.862068965517241,
           1.862068965517241,
           1.862068965517241,
           1.862068965517241,
           1.862068965517241,
           1.862068965517241
          ],
          [
           2,
           2,
           2,
           2,
           2,
           2,
           2,
           2,
           2,
           2,
           2,
           2,
           2,
           2,
           2,
           2,
           2,
           2,
           2,
           2,
           2,
           2,
           2,
           2,
           2,
           2,
           2,
           2,
           2,
           2
          ]
         ],
         "z": [
          [
           -0.9576594803233847,
           -0.3137940949062294,
           0.8478437952254082,
           0.8389795583874824,
           0.04217612433125857,
           -0.6784917480092424,
           -0.9826094547339108,
           -0.9499496930863073,
           -0.7621781554210614,
           -0.5502040930206004,
           -0.37569125857519575,
           -0.2556578484043172,
           -0.18593213727741198,
           -0.15425641653050026,
           -0.1458245520309786,
           -0.1451754999311753,
           -0.13673223861353376,
           -0.1048233541007775,
           -0.0335023576424343,
           0.09297136992121777,
           0.2865001980590106,
           0.5435279349495917,
           0.8197864943704282,
           0.9944643857598058,
           0.8612601411564534,
           0.2472567725054957,
           -0.6467904138882293,
           -0.964605251658508,
           0.02714626560260067,
           1
          ],
          [
           -0.3137940949062294,
           0.9406228046336786,
           0.5530664563599431,
           -0.5211872346340398,
           -0.9975970672600732,
           -0.752755817031621,
           -0.21229004796114806,
           0.2865001980590106,
           0.6264384660885862,
           0.8197864943704286,
           0.9162047371151806,
           0.9594708905295842,
           0.977153123717299,
           0.9834792462242282,
           0.9849872865486783,
           0.9851003236008932,
           0.9865312067907536,
           0.9912787967746514,
           0.9981608536568087,
           0.9978256763656518,
           0.965504514029724,
           0.8538364940112012,
           0.5947123768478139,
           0.13203146183439715,
           -0.4845970440362326,
           -0.961880809747117,
           -0.7799446718044731,
           0.23741552847415162,
           1,
           0.02714626560260333
          ],
          [
           0.8478437952254082,
           0.5530664563599431,
           -0.6780096745976342,
           -0.952778841475519,
           -0.30414680907528824,
           0.46076193475505023,
           0.8988656358851798,
           0.9987065297494372,
           0.9059106114282838,
           0.7509256706317754,
           0.6067746619387875,
           0.5015436481017562,
           0.4384510420362794,
           0.40933844548745746,
           0.40154245766525065,
           0.400941549350249,
           0.39311413279044877,
           0.3633585460021266,
           0.29586665905517695,
           0.17287533324240068,
           -0.023715634525348066,
           -0.302944035045724,
           -0.6397585344925225,
           -0.931557700674879,
           -0.9647780388746214,
           -0.49401549106707765,
           0.42278335266818473,
           1,
           0.2374155284741542,
           -0.964605251658508
          ],
          [
           0.8389795583874824,
           -0.5211872346340398,
           -0.952778841475519,
           -0.12762839130302317,
           0.734710050422586,
           0.9991038374057822,
           0.7771578113657548,
           0.3761587147080975,
           -0.0007566870655234676,
           -0.2809839152330911,
           -0.46380496878846095,
           -0.5719652567890859,
           -0.6291097155602094,
           -0.6537677340114083,
           -0.6601973067781282,
           -0.6606899062981278,
           -0.6670677474200457,
           -0.6906674051088321,
           -0.7405706555664342,
           -0.8194975024219159,
           -0.916002478908407,
           -0.991725198795546,
           -0.9669864607432366,
           -0.7233467323009226,
           -0.16949424855924158,
           0.5790636410164977,
           1,
           0.42278335266818473,
           -0.7799446718044715,
           -0.6467904138882293
          ],
          [
           0.04217612433125857,
           -0.9975970672600732,
           -0.30414680907528824,
           0.734710050422586,
           0.9785161450812593,
           0.5440367590574104,
           -0.0630380407475757,
           -0.5375842963012035,
           -0.8157202800802809,
           -0.94514420674415,
           -0.9908616557509484,
           -0.9999623289469769,
           -0.9980269931754916,
           -0.9954934273625979,
           -0.9946484778698959,
           -0.9945804844181928,
           -0.9936576281329287,
           -0.9895301927902989,
           -0.9766897463048789,
           -0.9417654586885214,
           -0.8574926718018084,
           -0.6789370171943229,
           -0.3521901314482465,
           0.14407641851977324,
           0.7053382104239388,
           1,
           0.5790636410164991,
           -0.49401549106707615,
           -0.9618808097471182,
           0.24725677250549397
          ],
          [
           -0.6784917480092424,
           -0.752755817031621,
           0.46076193475505023,
           0.9991038374057822,
           0.5440367590574104,
           -0.2110563170044723,
           -0.7519242226209343,
           -0.976905818950099,
           -0.9854026401738268,
           -0.8982014093648626,
           -0.7945065834315974,
           -0.7114645693951176,
           -0.6594391818037945,
           -0.6349369207631902,
           -0.6283251482915242,
           -0.627814651339994,
           -0.6211536830117151,
           -0.5956449400679826,
           -0.536733294611499,
           -0.42589080787827843,
           -0.2401109570610443,
           0.04157035464509842,
           0.4150393407419579,
           0.8030975835296462,
           1,
           0.7053382104239401,
           -0.16949424855924158,
           -0.9647780388746214,
           -0.4845970440362357,
           0.8612601411564534
          ],
          [
           -0.9826094547339108,
           -0.21229004796114806,
           0.8988656358851798,
           0.7771578113657548,
           -0.0630380407475757,
           -0.7519242226209343,
           -0.996680735364088,
           -0.9118656548313138,
           -0.6899374332251911,
           -0.4594182519859659,
           -0.27623460854697973,
           -0.1526603311397649,
           -0.0816609203397765,
           -0.049585971152810264,
           -0.04106632734935278,
           -0.04041083851662348,
           -0.03188800371565892,
           0.00025222904323643735,
           0.07169830411931909,
           0.19707580735038674,
           0.3855837428701959,
           0.628717511923242,
           0.8754212333959559,
           1,
           0.8030975835296462,
           0.14407641851977498,
           -0.7233467323009226,
           -0.931557700674879,
           0.1320314618343945,
           0.9944643857598058
          ],
          [
           -0.9499496930863073,
           0.2865001980590106,
           0.9987065297494372,
           0.3761587147080975,
           -0.5375842963012035,
           -0.976905818950099,
           -0.9118656548313138,
           -0.5998523771235921,
           -0.25409597593963296,
           0.027146265602603553,
           0.2227317045860822,
           0.34405309726423816,
           0.41025875458252153,
           0.43935758726988783,
           0.4470027139793962,
           0.447589461061875,
           0.45519955168035026,
           0.4835815924667488,
           0.5448830246316727,
           0.6464055976686958,
           0.7835320809126883,
           0.9262703449334371,
           1,
           0.8754212333959562,
           0.41503934074195853,
           -0.3521901314482442,
           -0.9669864607432365,
           -0.6397585344925225,
           0.594712376847811,
           0.8197864943704282
          ],
          [
           -0.7621781554210614,
           0.6264384660885862,
           0.9059106114282838,
           -0.0007566870655234676,
           -0.8157202800802809,
           -0.9854026401738268,
           -0.6899374332251911,
           -0.25409597593963296,
           0.12912924256398775,
           0.40186561691730277,
           0.5737026936102885,
           0.6725386875977992,
           0.723694960982692,
           0.7455016088858982,
           0.7511586629425052,
           0.7515915631931358,
           0.7571897630643476,
           0.777792332482045,
           0.8207104101126645,
           0.8862880305943281,
           0.9599248195940823,
           1,
           0.9262703449334373,
           0.628717511923242,
           0.04157035464509842,
           -0.6789370171943215,
           -0.991725198795546,
           -0.302944035045724,
           0.8538364940111998,
           0.5435279349495917
          ],
          [
           -0.5502040930206004,
           0.8197864943704286,
           0.7509256706317754,
           -0.2809839152330911,
           -0.94514420674415,
           -0.8982014093648626,
           -0.4594182519859659,
           0.027146265602603553,
           0.40186561691730277,
           0.642392317076825,
           0.7802602868772787,
           0.8529945930896486,
           0.8881041501676935,
           0.9024182821516977,
           0.9060599899030016,
           0.9063373949790623,
           0.9099081214256592,
           0.9227700701656522,
           0.9479439212417842,
           0.980566844924249,
           1,
           0.9599248195940822,
           0.7835320809126884,
           0.38558374287019553,
           -0.2401109570610447,
           -0.8574926718018075,
           -0.9160024789084068,
           -0.023715634525347182,
           0.9655045140297236,
           0.2865001980590098
          ],
          [
           -0.37569125857519575,
           0.9162047371151806,
           0.6067746619387875,
           -0.46380496878846095,
           -0.9908616557509484,
           -0.7945065834315974,
           -0.27623460854697973,
           0.2227317045860822,
           0.5737026936102885,
           0.7802602868772787,
           0.8878024183690598,
           0.9388111870007891,
           0.9610205306760811,
           0.9694100417869024,
           0.9714680397414333,
           0.9716234224656417,
           0.9736053205712637,
           0.9804379298201998,
           0.9919950922109924,
           1,
           0.9805668449242488,
           0.8862880305943281,
           0.6464055976686963,
           0.19707580735038674,
           -0.42589080787827843,
           -0.9417654586885207,
           -0.8194975024219159,
           0.17287533324240068,
           0.9978256763656517,
           0.09297136992121777
          ],
          [
           -0.2556578484043172,
           0.9594708905295842,
           0.5015436481017562,
           -0.5719652567890859,
           -0.9999623289469769,
           -0.7114645693951176,
           -0.1526603311397649,
           0.34405309726423816,
           0.6725386875977992,
           0.8529945930896486,
           0.9388111870007891,
           0.9747897616660582,
           0.9882401806092769,
           0.99264415979737,
           0.9936405723949175,
           0.9937142269243243,
           0.9946328061296215,
           0.9974444174608911,
           1,
           0.9919950922109924,
           0.9479439212417841,
           0.8207104101126645,
           0.5448830246316733,
           0.07169830411931909,
           -0.536733294611499,
           -0.9766897463048786,
           -0.7405706555664342,
           0.29586665905517695,
           0.998160853656809,
           -0.0335023576424343
          ],
          [
           -0.18593213727741198,
           0.977153123717299,
           0.4384510420362794,
           -0.6291097155602094,
           -0.9980269931754916,
           -0.6594391818037945,
           -0.0816609203397765,
           0.41025875458252153,
           0.723694960982692,
           0.8881041501676935,
           0.9610205306760811,
           0.9882401806092769,
           0.9966395408524737,
           0.9987573203164336,
           0.9991460326642074,
           0.9991729238710605,
           0.9994833734228612,
           1,
           0.9974444174608911,
           0.9804379298201998,
           0.9227700701656519,
           0.777792332482045,
           0.48358159246674937,
           0.00025222904323643735,
           -0.5956449400679826,
           -0.9895301927902986,
           -0.6906674051088321,
           0.3633585460021266,
           0.9912787967746517,
           -0.1048233541007775
          ],
          [
           -0.15425641653050026,
           0.9834792462242282,
           0.40933844548745746,
           -0.6537677340114083,
           -0.9954934273625979,
           -0.6349369207631902,
           -0.049585971152810264,
           0.43935758726988783,
           0.7455016088858982,
           0.9024182821516977,
           0.9694100417869024,
           0.99264415979737,
           0.9987573203164336,
           0.9998431306288187,
           0.9999578230665178,
           0.9999636331190774,
           1,
           0.9994833734228612,
           0.9946328061296215,
           0.9736053205712637,
           0.909908121425659,
           0.7571897630643476,
           0.45519955168035087,
           -0.03188800371565892,
           -0.6211536830117151,
           -0.9936576281329285,
           -0.6670677474200457,
           0.39311413279044877,
           0.986531206790754,
           -0.13673223861353376
          ],
          [
           -0.1458245520309786,
           0.9849872865486783,
           0.40154245766525065,
           -0.6601973067781282,
           -0.9946484778698959,
           -0.6283251482915242,
           -0.04106632734935278,
           0.4470027139793962,
           0.7511586629425052,
           0.9060599899030016,
           0.9714680397414333,
           0.9936405723949175,
           0.9991460326642074,
           0.9999578230665178,
           0.9999997848100589,
           1,
           0.9999636331190774,
           0.9991729238710605,
           0.9937142269243243,
           0.9716234224656417,
           0.9063373949790621,
           0.7515915631931358,
           0.44758946106187564,
           -0.04041083851662348,
           -0.627814651339994,
           -0.9945804844181926,
           -0.6606899062981278,
           0.400941549350249,
           0.9851003236008936,
           -0.1451754999311753
          ],
          [
           -0.1451754999311753,
           0.9851003236008932,
           0.400941549350249,
           -0.6606899062981278,
           -0.9945804844181928,
           -0.627814651339994,
           -0.04041083851662348,
           0.447589461061875,
           0.7515915631931358,
           0.9063373949790623,
           0.9716234224656417,
           0.9937142269243243,
           0.9991729238710605,
           0.9999636331190774,
           1,
           0.9999997848100589,
           0.9999578230665178,
           0.9991460326642074,
           0.9936405723949175,
           0.9714680397414333,
           0.9060599899030015,
           0.7511586629425052,
           0.44700271397939684,
           -0.04106632734935278,
           -0.6283251482915242,
           -0.9946484778698956,
           -0.6601973067781282,
           0.40154245766525065,
           0.9849872865486788,
           -0.1458245520309786
          ],
          [
           -0.13673223861353376,
           0.9865312067907536,
           0.39311413279044877,
           -0.6670677474200457,
           -0.9936576281329287,
           -0.6211536830117151,
           -0.03188800371565892,
           0.45519955168035026,
           0.7571897630643476,
           0.9099081214256592,
           0.9736053205712637,
           0.9946328061296215,
           0.9994833734228612,
           1,
           0.9999636331190774,
           0.9999578230665178,
           0.9998431306288187,
           0.9987573203164336,
           0.99264415979737,
           0.9694100417869024,
           0.9024182821516976,
           0.7455016088858982,
           0.43935758726988844,
           -0.049585971152810264,
           -0.6349369207631902,
           -0.9954934273625977,
           -0.6537677340114083,
           0.40933844548745746,
           0.9834792462242288,
           -0.15425641653050026
          ],
          [
           -0.1048233541007775,
           0.9912787967746514,
           0.3633585460021266,
           -0.6906674051088321,
           -0.9895301927902989,
           -0.5956449400679826,
           0.00025222904323643735,
           0.4835815924667488,
           0.777792332482045,
           0.9227700701656522,
           0.9804379298201998,
           0.9974444174608911,
           1,
           0.9994833734228612,
           0.9991729238710605,
           0.9991460326642074,
           0.9987573203164336,
           0.9966395408524737,
           0.9882401806092769,
           0.9610205306760812,
           0.8881041501676933,
           0.7236949609826921,
           0.41025875458252214,
           -0.0816609203397765,
           -0.6594391818037945,
           -0.9980269931754915,
           -0.6291097155602094,
           0.4384510420362794,
           0.9771531237172996,
           -0.18593213727741198
          ],
          [
           -0.0335023576424343,
           0.9981608536568087,
           0.29586665905517695,
           -0.7405706555664342,
           -0.9766897463048789,
           -0.536733294611499,
           0.07169830411931909,
           0.5448830246316727,
           0.8207104101126645,
           0.9479439212417842,
           0.9919950922109924,
           1,
           0.9974444174608911,
           0.9946328061296215,
           0.9937142269243243,
           0.9936405723949175,
           0.99264415979737,
           0.9882401806092769,
           0.9747897616660582,
           0.9388111870007891,
           0.8529945930896484,
           0.6725386875977992,
           0.34405309726423855,
           -0.1526603311397649,
           -0.7114645693951176,
           -0.9999623289469769,
           -0.5719652567890859,
           0.5015436481017562,
           0.959470890529585,
           -0.2556578484043172
          ],
          [
           0.09297136992121777,
           0.9978256763656518,
           0.17287533324240068,
           -0.8194975024219159,
           -0.9417654586885214,
           -0.42589080787827843,
           0.19707580735038674,
           0.6464055976686958,
           0.8862880305943281,
           0.980566844924249,
           1,
           0.9919950922109924,
           0.9804379298201998,
           0.9736053205712637,
           0.9716234224656417,
           0.9714680397414333,
           0.9694100417869024,
           0.9610205306760812,
           0.9388111870007891,
           0.8878024183690598,
           0.7802602868772783,
           0.5737026936102885,
           0.22273170458608285,
           -0.27623460854697973,
           -0.7945065834315974,
           -0.9908616557509486,
           -0.46380496878846095,
           0.6067746619387875,
           0.9162047371151817,
           -0.37569125857519575
          ],
          [
           0.2865001980590106,
           0.965504514029724,
           -0.023715634525348066,
           -0.916002478908407,
           -0.8574926718018084,
           -0.2401109570610443,
           0.3855837428701959,
           0.7835320809126883,
           0.9599248195940823,
           1,
           0.9805668449242488,
           0.9479439212417841,
           0.9227700701656519,
           0.909908121425659,
           0.9063373949790621,
           0.9060599899030015,
           0.9024182821516976,
           0.8881041501676933,
           0.8529945930896484,
           0.7802602868772783,
           0.6423923170768244,
           0.4018656169173024,
           0.027146265602603775,
           -0.4594182519859663,
           -0.8982014093648626,
           -0.9451442067441506,
           -0.28098391523309024,
           0.750925670631776,
           0.8197864943704297,
           -0.5502040930206004
          ],
          [
           0.5435279349495917,
           0.8538364940112012,
           -0.302944035045724,
           -0.991725198795546,
           -0.6789370171943229,
           0.04157035464509842,
           0.628717511923242,
           0.9262703449334371,
           1,
           0.9599248195940822,
           0.8862880305943281,
           0.8207104101126645,
           0.777792332482045,
           0.7571897630643476,
           0.7515915631931358,
           0.7511586629425052,
           0.7455016088858982,
           0.7236949609826921,
           0.6725386875977992,
           0.5737026936102885,
           0.4018656169173024,
           0.12912924256398775,
           -0.2540959759396323,
           -0.6899374332251911,
           -0.9854026401738268,
           -0.815720280080282,
           -0.0007566870655234676,
           0.9059106114282838,
           0.6264384660885882,
           -0.7621781554210614
          ],
          [
           0.8197864943704282,
           0.5947123768478139,
           -0.6397585344925225,
           -0.9669864607432366,
           -0.3521901314482465,
           0.4150393407419579,
           0.8754212333959559,
           1,
           0.9262703449334373,
           0.7835320809126884,
           0.6464055976686963,
           0.5448830246316733,
           0.48358159246674937,
           0.45519955168035087,
           0.44758946106187564,
           0.44700271397939684,
           0.43935758726988844,
           0.41025875458252214,
           0.34405309726423855,
           0.22273170458608285,
           0.027146265602603775,
           -0.2540959759396323,
           -0.599852377123591,
           -0.9118656548313135,
           -0.9769058189500992,
           -0.5375842963012059,
           0.37615871470809664,
           0.9987065297494372,
           0.28650019805901317,
           -0.9499496930863073
          ],
          [
           0.9944643857598058,
           0.13203146183439715,
           -0.931557700674879,
           -0.7233467323009226,
           0.14407641851977324,
           0.8030975835296462,
           1,
           0.8754212333959562,
           0.628717511923242,
           0.38558374287019553,
           0.19707580735038674,
           0.07169830411931909,
           0.00025222904323643735,
           -0.03188800371565892,
           -0.04041083851662348,
           -0.04106632734935278,
           -0.049585971152810264,
           -0.0816609203397765,
           -0.1526603311397649,
           -0.27623460854697973,
           -0.4594182519859663,
           -0.6899374332251911,
           -0.9118656548313135,
           -0.996680735364088,
           -0.7519242226209343,
           -0.06303804074757748,
           0.7771578113657548,
           0.8988656358851798,
           -0.2122900479611446,
           -0.9826094547339108
          ],
          [
           0.8612601411564534,
           -0.4845970440362326,
           -0.9647780388746214,
           -0.16949424855924158,
           0.7053382104239388,
           1,
           0.8030975835296462,
           0.41503934074195853,
           0.04157035464509842,
           -0.2401109570610447,
           -0.42589080787827843,
           -0.536733294611499,
           -0.5956449400679826,
           -0.6211536830117151,
           -0.627814651339994,
           -0.6283251482915242,
           -0.6349369207631902,
           -0.6594391818037945,
           -0.7114645693951176,
           -0.7945065834315974,
           -0.8982014093648626,
           -0.9854026401738268,
           -0.9769058189500992,
           -0.7519242226209343,
           -0.2110563170044723,
           0.544036759057409,
           0.9991038374057822,
           0.46076193475505023,
           -0.7527558170316199,
           -0.6784917480092424
          ],
          [
           0.2472567725054957,
           -0.961880809747117,
           -0.49401549106707765,
           0.5790636410164977,
           1,
           0.7053382104239401,
           0.14407641851977498,
           -0.3521901314482442,
           -0.6789370171943215,
           -0.8574926718018075,
           -0.9417654586885207,
           -0.9766897463048786,
           -0.9895301927902986,
           -0.9936576281329285,
           -0.9945804844181926,
           -0.9946484778698956,
           -0.9954934273625977,
           -0.9980269931754915,
           -0.9999623289469769,
           -0.9908616557509486,
           -0.9451442067441506,
           -0.815720280080282,
           -0.5375842963012059,
           -0.06303804074757748,
           0.544036759057409,
           0.9785161450812586,
           0.7347100504225871,
           -0.3041468090752866,
           -0.9975970672600737,
           0.042176124331256795
          ],
          [
           -0.6467904138882293,
           -0.7799446718044731,
           0.42278335266818473,
           1,
           0.5790636410164991,
           -0.16949424855924158,
           -0.7233467323009226,
           -0.9669864607432365,
           -0.991725198795546,
           -0.9160024789084068,
           -0.8194975024219159,
           -0.7405706555664342,
           -0.6906674051088321,
           -0.6670677474200457,
           -0.6606899062981278,
           -0.6601973067781282,
           -0.6537677340114083,
           -0.6291097155602094,
           -0.5719652567890859,
           -0.46380496878846095,
           -0.28098391523309024,
           -0.0007566870655234676,
           0.37615871470809664,
           0.7771578113657548,
           0.9991038374057822,
           0.7347100504225871,
           -0.12762839130302317,
           -0.952778841475519,
           -0.5211872346340428,
           0.8389795583874824
          ],
          [
           -0.964605251658508,
           0.23741552847415162,
           1,
           0.42278335266818473,
           -0.49401549106707615,
           -0.9647780388746214,
           -0.931557700674879,
           -0.6397585344925225,
           -0.302944035045724,
           -0.023715634525347182,
           0.17287533324240068,
           0.29586665905517695,
           0.3633585460021266,
           0.39311413279044877,
           0.400941549350249,
           0.40154245766525065,
           0.40933844548745746,
           0.4384510420362794,
           0.5015436481017562,
           0.6067746619387875,
           0.750925670631776,
           0.9059106114282838,
           0.9987065297494372,
           0.8988656358851798,
           0.46076193475505023,
           -0.3041468090752866,
           -0.952778841475519,
           -0.6780096745976342,
           0.5530664563599401,
           0.8478437952254082
          ],
          [
           0.02714626560260067,
           1,
           0.2374155284741542,
           -0.7799446718044715,
           -0.9618808097471182,
           -0.4845970440362357,
           0.1320314618343945,
           0.594712376847811,
           0.8538364940111998,
           0.9655045140297236,
           0.9978256763656517,
           0.998160853656809,
           0.9912787967746517,
           0.986531206790754,
           0.9851003236008936,
           0.9849872865486788,
           0.9834792462242288,
           0.9771531237172996,
           0.959470890529585,
           0.9162047371151817,
           0.8197864943704297,
           0.6264384660885882,
           0.28650019805901317,
           -0.2122900479611446,
           -0.7527558170316199,
           -0.9975970672600737,
           -0.5211872346340428,
           0.5530664563599401,
           0.9406228046336804,
           -0.3137940949062277
          ],
          [
           1,
           0.02714626560260333,
           -0.964605251658508,
           -0.6467904138882293,
           0.24725677250549397,
           0.8612601411564534,
           0.9944643857598058,
           0.8197864943704282,
           0.5435279349495917,
           0.2865001980590098,
           0.09297136992121777,
           -0.0335023576424343,
           -0.1048233541007775,
           -0.13673223861353376,
           -0.1451754999311753,
           -0.1458245520309786,
           -0.15425641653050026,
           -0.18593213727741198,
           -0.2556578484043172,
           -0.37569125857519575,
           -0.5502040930206004,
           -0.7621781554210614,
           -0.9499496930863073,
           -0.9826094547339108,
           -0.6784917480092424,
           0.042176124331256795,
           0.8389795583874824,
           0.8478437952254082,
           -0.3137940949062277,
           -0.9576594803233847
          ]
         ]
        }
       ],
       "layout": {
        "template": {
         "data": {
          "bar": [
           {
            "error_x": {
             "color": "#2a3f5f"
            },
            "error_y": {
             "color": "#2a3f5f"
            },
            "marker": {
             "line": {
              "color": "#E5ECF6",
              "width": 0.5
             },
             "pattern": {
              "fillmode": "overlay",
              "size": 10,
              "solidity": 0.2
             }
            },
            "type": "bar"
           }
          ],
          "barpolar": [
           {
            "marker": {
             "line": {
              "color": "#E5ECF6",
              "width": 0.5
             },
             "pattern": {
              "fillmode": "overlay",
              "size": 10,
              "solidity": 0.2
             }
            },
            "type": "barpolar"
           }
          ],
          "carpet": [
           {
            "aaxis": {
             "endlinecolor": "#2a3f5f",
             "gridcolor": "white",
             "linecolor": "white",
             "minorgridcolor": "white",
             "startlinecolor": "#2a3f5f"
            },
            "baxis": {
             "endlinecolor": "#2a3f5f",
             "gridcolor": "white",
             "linecolor": "white",
             "minorgridcolor": "white",
             "startlinecolor": "#2a3f5f"
            },
            "type": "carpet"
           }
          ],
          "choropleth": [
           {
            "colorbar": {
             "outlinewidth": 0,
             "ticks": ""
            },
            "type": "choropleth"
           }
          ],
          "contour": [
           {
            "colorbar": {
             "outlinewidth": 0,
             "ticks": ""
            },
            "colorscale": [
             [
              0,
              "#0d0887"
             ],
             [
              0.1111111111111111,
              "#46039f"
             ],
             [
              0.2222222222222222,
              "#7201a8"
             ],
             [
              0.3333333333333333,
              "#9c179e"
             ],
             [
              0.4444444444444444,
              "#bd3786"
             ],
             [
              0.5555555555555556,
              "#d8576b"
             ],
             [
              0.6666666666666666,
              "#ed7953"
             ],
             [
              0.7777777777777778,
              "#fb9f3a"
             ],
             [
              0.8888888888888888,
              "#fdca26"
             ],
             [
              1,
              "#f0f921"
             ]
            ],
            "type": "contour"
           }
          ],
          "contourcarpet": [
           {
            "colorbar": {
             "outlinewidth": 0,
             "ticks": ""
            },
            "type": "contourcarpet"
           }
          ],
          "heatmap": [
           {
            "colorbar": {
             "outlinewidth": 0,
             "ticks": ""
            },
            "colorscale": [
             [
              0,
              "#0d0887"
             ],
             [
              0.1111111111111111,
              "#46039f"
             ],
             [
              0.2222222222222222,
              "#7201a8"
             ],
             [
              0.3333333333333333,
              "#9c179e"
             ],
             [
              0.4444444444444444,
              "#bd3786"
             ],
             [
              0.5555555555555556,
              "#d8576b"
             ],
             [
              0.6666666666666666,
              "#ed7953"
             ],
             [
              0.7777777777777778,
              "#fb9f3a"
             ],
             [
              0.8888888888888888,
              "#fdca26"
             ],
             [
              1,
              "#f0f921"
             ]
            ],
            "type": "heatmap"
           }
          ],
          "heatmapgl": [
           {
            "colorbar": {
             "outlinewidth": 0,
             "ticks": ""
            },
            "colorscale": [
             [
              0,
              "#0d0887"
             ],
             [
              0.1111111111111111,
              "#46039f"
             ],
             [
              0.2222222222222222,
              "#7201a8"
             ],
             [
              0.3333333333333333,
              "#9c179e"
             ],
             [
              0.4444444444444444,
              "#bd3786"
             ],
             [
              0.5555555555555556,
              "#d8576b"
             ],
             [
              0.6666666666666666,
              "#ed7953"
             ],
             [
              0.7777777777777778,
              "#fb9f3a"
             ],
             [
              0.8888888888888888,
              "#fdca26"
             ],
             [
              1,
              "#f0f921"
             ]
            ],
            "type": "heatmapgl"
           }
          ],
          "histogram": [
           {
            "marker": {
             "pattern": {
              "fillmode": "overlay",
              "size": 10,
              "solidity": 0.2
             }
            },
            "type": "histogram"
           }
          ],
          "histogram2d": [
           {
            "colorbar": {
             "outlinewidth": 0,
             "ticks": ""
            },
            "colorscale": [
             [
              0,
              "#0d0887"
             ],
             [
              0.1111111111111111,
              "#46039f"
             ],
             [
              0.2222222222222222,
              "#7201a8"
             ],
             [
              0.3333333333333333,
              "#9c179e"
             ],
             [
              0.4444444444444444,
              "#bd3786"
             ],
             [
              0.5555555555555556,
              "#d8576b"
             ],
             [
              0.6666666666666666,
              "#ed7953"
             ],
             [
              0.7777777777777778,
              "#fb9f3a"
             ],
             [
              0.8888888888888888,
              "#fdca26"
             ],
             [
              1,
              "#f0f921"
             ]
            ],
            "type": "histogram2d"
           }
          ],
          "histogram2dcontour": [
           {
            "colorbar": {
             "outlinewidth": 0,
             "ticks": ""
            },
            "colorscale": [
             [
              0,
              "#0d0887"
             ],
             [
              0.1111111111111111,
              "#46039f"
             ],
             [
              0.2222222222222222,
              "#7201a8"
             ],
             [
              0.3333333333333333,
              "#9c179e"
             ],
             [
              0.4444444444444444,
              "#bd3786"
             ],
             [
              0.5555555555555556,
              "#d8576b"
             ],
             [
              0.6666666666666666,
              "#ed7953"
             ],
             [
              0.7777777777777778,
              "#fb9f3a"
             ],
             [
              0.8888888888888888,
              "#fdca26"
             ],
             [
              1,
              "#f0f921"
             ]
            ],
            "type": "histogram2dcontour"
           }
          ],
          "mesh3d": [
           {
            "colorbar": {
             "outlinewidth": 0,
             "ticks": ""
            },
            "type": "mesh3d"
           }
          ],
          "parcoords": [
           {
            "line": {
             "colorbar": {
              "outlinewidth": 0,
              "ticks": ""
             }
            },
            "type": "parcoords"
           }
          ],
          "pie": [
           {
            "automargin": true,
            "type": "pie"
           }
          ],
          "scatter": [
           {
            "fillpattern": {
             "fillmode": "overlay",
             "size": 10,
             "solidity": 0.2
            },
            "type": "scatter"
           }
          ],
          "scatter3d": [
           {
            "line": {
             "colorbar": {
              "outlinewidth": 0,
              "ticks": ""
             }
            },
            "marker": {
             "colorbar": {
              "outlinewidth": 0,
              "ticks": ""
             }
            },
            "type": "scatter3d"
           }
          ],
          "scattercarpet": [
           {
            "marker": {
             "colorbar": {
              "outlinewidth": 0,
              "ticks": ""
             }
            },
            "type": "scattercarpet"
           }
          ],
          "scattergeo": [
           {
            "marker": {
             "colorbar": {
              "outlinewidth": 0,
              "ticks": ""
             }
            },
            "type": "scattergeo"
           }
          ],
          "scattergl": [
           {
            "marker": {
             "colorbar": {
              "outlinewidth": 0,
              "ticks": ""
             }
            },
            "type": "scattergl"
           }
          ],
          "scattermapbox": [
           {
            "marker": {
             "colorbar": {
              "outlinewidth": 0,
              "ticks": ""
             }
            },
            "type": "scattermapbox"
           }
          ],
          "scatterpolar": [
           {
            "marker": {
             "colorbar": {
              "outlinewidth": 0,
              "ticks": ""
             }
            },
            "type": "scatterpolar"
           }
          ],
          "scatterpolargl": [
           {
            "marker": {
             "colorbar": {
              "outlinewidth": 0,
              "ticks": ""
             }
            },
            "type": "scatterpolargl"
           }
          ],
          "scatterternary": [
           {
            "marker": {
             "colorbar": {
              "outlinewidth": 0,
              "ticks": ""
             }
            },
            "type": "scatterternary"
           }
          ],
          "surface": [
           {
            "colorbar": {
             "outlinewidth": 0,
             "ticks": ""
            },
            "colorscale": [
             [
              0,
              "#0d0887"
             ],
             [
              0.1111111111111111,
              "#46039f"
             ],
             [
              0.2222222222222222,
              "#7201a8"
             ],
             [
              0.3333333333333333,
              "#9c179e"
             ],
             [
              0.4444444444444444,
              "#bd3786"
             ],
             [
              0.5555555555555556,
              "#d8576b"
             ],
             [
              0.6666666666666666,
              "#ed7953"
             ],
             [
              0.7777777777777778,
              "#fb9f3a"
             ],
             [
              0.8888888888888888,
              "#fdca26"
             ],
             [
              1,
              "#f0f921"
             ]
            ],
            "type": "surface"
           }
          ],
          "table": [
           {
            "cells": {
             "fill": {
              "color": "#EBF0F8"
             },
             "line": {
              "color": "white"
             }
            },
            "header": {
             "fill": {
              "color": "#C8D4E3"
             },
             "line": {
              "color": "white"
             }
            },
            "type": "table"
           }
          ]
         },
         "layout": {
          "annotationdefaults": {
           "arrowcolor": "#2a3f5f",
           "arrowhead": 0,
           "arrowwidth": 1
          },
          "autotypenumbers": "strict",
          "coloraxis": {
           "colorbar": {
            "outlinewidth": 0,
            "ticks": ""
           }
          },
          "colorscale": {
           "diverging": [
            [
             0,
             "#8e0152"
            ],
            [
             0.1,
             "#c51b7d"
            ],
            [
             0.2,
             "#de77ae"
            ],
            [
             0.3,
             "#f1b6da"
            ],
            [
             0.4,
             "#fde0ef"
            ],
            [
             0.5,
             "#f7f7f7"
            ],
            [
             0.6,
             "#e6f5d0"
            ],
            [
             0.7,
             "#b8e186"
            ],
            [
             0.8,
             "#7fbc41"
            ],
            [
             0.9,
             "#4d9221"
            ],
            [
             1,
             "#276419"
            ]
           ],
           "sequential": [
            [
             0,
             "#0d0887"
            ],
            [
             0.1111111111111111,
             "#46039f"
            ],
            [
             0.2222222222222222,
             "#7201a8"
            ],
            [
             0.3333333333333333,
             "#9c179e"
            ],
            [
             0.4444444444444444,
             "#bd3786"
            ],
            [
             0.5555555555555556,
             "#d8576b"
            ],
            [
             0.6666666666666666,
             "#ed7953"
            ],
            [
             0.7777777777777778,
             "#fb9f3a"
            ],
            [
             0.8888888888888888,
             "#fdca26"
            ],
            [
             1,
             "#f0f921"
            ]
           ],
           "sequentialminus": [
            [
             0,
             "#0d0887"
            ],
            [
             0.1111111111111111,
             "#46039f"
            ],
            [
             0.2222222222222222,
             "#7201a8"
            ],
            [
             0.3333333333333333,
             "#9c179e"
            ],
            [
             0.4444444444444444,
             "#bd3786"
            ],
            [
             0.5555555555555556,
             "#d8576b"
            ],
            [
             0.6666666666666666,
             "#ed7953"
            ],
            [
             0.7777777777777778,
             "#fb9f3a"
            ],
            [
             0.8888888888888888,
             "#fdca26"
            ],
            [
             1,
             "#f0f921"
            ]
           ]
          },
          "colorway": [
           "#636efa",
           "#EF553B",
           "#00cc96",
           "#ab63fa",
           "#FFA15A",
           "#19d3f3",
           "#FF6692",
           "#B6E880",
           "#FF97FF",
           "#FECB52"
          ],
          "font": {
           "color": "#2a3f5f"
          },
          "geo": {
           "bgcolor": "white",
           "lakecolor": "white",
           "landcolor": "#E5ECF6",
           "showlakes": true,
           "showland": true,
           "subunitcolor": "white"
          },
          "hoverlabel": {
           "align": "left"
          },
          "hovermode": "closest",
          "mapbox": {
           "style": "light"
          },
          "paper_bgcolor": "white",
          "plot_bgcolor": "#E5ECF6",
          "polar": {
           "angularaxis": {
            "gridcolor": "white",
            "linecolor": "white",
            "ticks": ""
           },
           "bgcolor": "#E5ECF6",
           "radialaxis": {
            "gridcolor": "white",
            "linecolor": "white",
            "ticks": ""
           }
          },
          "scene": {
           "xaxis": {
            "backgroundcolor": "#E5ECF6",
            "gridcolor": "white",
            "gridwidth": 2,
            "linecolor": "white",
            "showbackground": true,
            "ticks": "",
            "zerolinecolor": "white"
           },
           "yaxis": {
            "backgroundcolor": "#E5ECF6",
            "gridcolor": "white",
            "gridwidth": 2,
            "linecolor": "white",
            "showbackground": true,
            "ticks": "",
            "zerolinecolor": "white"
           },
           "zaxis": {
            "backgroundcolor": "#E5ECF6",
            "gridcolor": "white",
            "gridwidth": 2,
            "linecolor": "white",
            "showbackground": true,
            "ticks": "",
            "zerolinecolor": "white"
           }
          },
          "shapedefaults": {
           "line": {
            "color": "#2a3f5f"
           }
          },
          "ternary": {
           "aaxis": {
            "gridcolor": "white",
            "linecolor": "white",
            "ticks": ""
           },
           "baxis": {
            "gridcolor": "white",
            "linecolor": "white",
            "ticks": ""
           },
           "bgcolor": "#E5ECF6",
           "caxis": {
            "gridcolor": "white",
            "linecolor": "white",
            "ticks": ""
           }
          },
          "title": {
           "x": 0.05
          },
          "xaxis": {
           "automargin": true,
           "gridcolor": "white",
           "linecolor": "white",
           "ticks": "",
           "title": {
            "standoff": 15
           },
           "zerolinecolor": "white",
           "zerolinewidth": 2
          },
          "yaxis": {
           "automargin": true,
           "gridcolor": "white",
           "linecolor": "white",
           "ticks": "",
           "title": {
            "standoff": 15
           },
           "zerolinecolor": "white",
           "zerolinewidth": 2
          }
         }
        },
        "title": {
         "text": "3D Plot"
        }
       }
      }
     },
     "metadata": {},
     "output_type": "display_data"
    }
   ],
   "source": [
    "x,y=np.meshgrid(np.linspace(-2,2,30),np.linspace(-2,2,30))\n",
    "z=np.cos(x**3+y**3)\n",
    "trace=go.Surface(x=x,y=y,z=z)\n",
    "fig=go.Figure(data=[trace],layout=go.Layout(title='3D Plot'))\n",
    "fig.show()\n",
    "\n",
    "\n",
    "\n"
   ]
  },
  {
   "cell_type": "code",
   "execution_count": null,
   "metadata": {},
   "outputs": [],
   "source": []
  }
 ],
 "metadata": {
  "kernelspec": {
   "display_name": "Python 3",
   "language": "python",
   "name": "python3"
  },
  "language_info": {
   "codemirror_mode": {
    "name": "ipython",
    "version": 3
   },
   "file_extension": ".py",
   "mimetype": "text/x-python",
   "name": "python",
   "nbconvert_exporter": "python",
   "pygments_lexer": "ipython3",
   "version": "3.12.1"
  }
 },
 "nbformat": 4,
 "nbformat_minor": 2
}
